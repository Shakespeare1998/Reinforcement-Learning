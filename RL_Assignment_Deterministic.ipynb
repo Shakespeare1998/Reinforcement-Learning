{
  "nbformat": 4,
  "nbformat_minor": 0,
  "metadata": {
    "colab": {
      "provenance": [],
      "authorship_tag": "ABX9TyMVjzjPRCorJMN1bRuZRmK1",
      "include_colab_link": true
    },
    "kernelspec": {
      "name": "python3",
      "display_name": "Python 3"
    },
    "language_info": {
      "name": "python"
    }
  },
  "cells": [
    {
      "cell_type": "markdown",
      "metadata": {
        "id": "view-in-github",
        "colab_type": "text"
      },
      "source": [
        "<a href=\"https://colab.research.google.com/github/Shakespeare1998/Reinforcement-Learning/blob/main/RL_Assignment_Deterministic.ipynb\" target=\"_parent\"><img src=\"https://colab.research.google.com/assets/colab-badge.svg\" alt=\"Open In Colab\"/></a>"
      ]
    },
    {
      "cell_type": "markdown",
      "source": [
        "#Assignment 1"
      ],
      "metadata": {
        "id": "oE5iJnwj1iCw"
      }
    },
    {
      "cell_type": "markdown",
      "source": [
        "##Imports\n"
      ],
      "metadata": {
        "id": "Fjx38azqTFgD"
      }
    },
    {
      "cell_type": "code",
      "execution_count": 294,
      "metadata": {
        "colab": {
          "base_uri": "https://localhost:8080/"
        },
        "id": "GOXCroTX1xRA",
        "outputId": "b7e2a7aa-0807-4f12-b292-06db3e916449"
      },
      "outputs": [
        {
          "output_type": "stream",
          "name": "stdout",
          "text": [
            "Looking in indexes: https://pypi.org/simple, https://us-python.pkg.dev/colab-wheels/public/simple/\n",
            "Requirement already satisfied: gymnasium in /usr/local/lib/python3.8/dist-packages (0.27.1)\n",
            "Requirement already satisfied: matplotlib in /usr/local/lib/python3.8/dist-packages (3.5.3)\n",
            "Requirement already satisfied: numpy in /usr/local/lib/python3.8/dist-packages (1.22.4)\n",
            "Requirement already satisfied: gymnasium-notices>=0.0.1 in /usr/local/lib/python3.8/dist-packages (from gymnasium) (0.0.1)\n",
            "Requirement already satisfied: importlib-metadata>=4.8.0 in /usr/local/lib/python3.8/dist-packages (from gymnasium) (6.0.0)\n",
            "Requirement already satisfied: typing-extensions>=4.3.0 in /usr/local/lib/python3.8/dist-packages (from gymnasium) (4.5.0)\n",
            "Requirement already satisfied: jax-jumpy>=0.2.0 in /usr/local/lib/python3.8/dist-packages (from gymnasium) (0.2.0)\n",
            "Requirement already satisfied: cloudpickle>=1.2.0 in /usr/local/lib/python3.8/dist-packages (from gymnasium) (2.2.1)\n",
            "Requirement already satisfied: packaging>=20.0 in /usr/local/lib/python3.8/dist-packages (from matplotlib) (23.0)\n",
            "Requirement already satisfied: cycler>=0.10 in /usr/local/lib/python3.8/dist-packages (from matplotlib) (0.11.0)\n",
            "Requirement already satisfied: kiwisolver>=1.0.1 in /usr/local/lib/python3.8/dist-packages (from matplotlib) (1.4.4)\n",
            "Requirement already satisfied: pyparsing>=2.2.1 in /usr/local/lib/python3.8/dist-packages (from matplotlib) (3.0.9)\n",
            "Requirement already satisfied: pillow>=6.2.0 in /usr/local/lib/python3.8/dist-packages (from matplotlib) (8.4.0)\n",
            "Requirement already satisfied: fonttools>=4.22.0 in /usr/local/lib/python3.8/dist-packages (from matplotlib) (4.38.0)\n",
            "Requirement already satisfied: python-dateutil>=2.7 in /usr/local/lib/python3.8/dist-packages (from matplotlib) (2.8.2)\n",
            "Requirement already satisfied: zipp>=0.5 in /usr/local/lib/python3.8/dist-packages (from importlib-metadata>=4.8.0->gymnasium) (3.15.0)\n",
            "Requirement already satisfied: six>=1.5 in /usr/local/lib/python3.8/dist-packages (from python-dateutil>=2.7->matplotlib) (1.15.0)\n"
          ]
        }
      ],
      "source": [
        "!pip install gymnasium matplotlib numpy\n",
        "from google.colab import widgets\n",
        "import gymnasium as gym\n",
        "import numpy as np\n",
        "import time\n",
        "import matplotlib.pyplot as plt\n",
        "%matplotlib inline"
      ]
    },
    {
      "cell_type": "markdown",
      "source": [
        "##Deterministic Environment"
      ],
      "metadata": {
        "id": "Qw7nbuDPTMhR"
      }
    },
    {
      "cell_type": "code",
      "source": [
        "class a1():\n",
        "    def __init__(self):\n",
        "        #IInitializing a 5 cross 5 grid world\n",
        "        self.height = 5\n",
        "        self.width = 5\n",
        "        self.grid = np.zeros(( self.height, self.width)) - 1\n",
        "        \n",
        "        self.current_location = ( 0, 0)\n",
        "        \n",
        "        # Set locations for the pit and the end reward\n",
        "        self.dead = (4,4)\n",
        "        self.richierich = (3,3)\n",
        "        self.reward_location1 = (1,2)\n",
        "        self.reward_location2 = (2,2)\n",
        "        self.terminal_states = [ self.dead, self.richierich]\n",
        "        \n",
        "        # Setting rewards \n",
        "        self.grid[ self.dead[0], self.dead[1]] = -100\n",
        "        self.grid[ self.richierich[0], self.richierich[1]] = 100\n",
        "        self.grid[ self.reward_location1[0], self.reward_location1[1]] = 10\n",
        "        self.grid[ self.reward_location2[0], self.reward_location2[1]] = 10\n",
        "        \n",
        "        # Set available actions\n",
        "        self.act = ['UP', 'DOWN', 'LEFT', 'RIGHT']\n",
        "  \n",
        "    \n",
        "    def show_map(self):\n",
        "        grid = np.zeros(( self.height, self.width))\n",
        "        grid[ self.current_location[0], self.current_location[1]] = 1\n",
        "        return grid\n",
        "    \n",
        "    def get_reward(self, X):\n",
        "        return self.grid[ X[0], X[1]]\n",
        "        \n",
        "    \n",
        "    def step(self, action):\n",
        "        last_location = self.current_location\n",
        "        #print(\"Action taken\", action)\n",
        "        # UP\n",
        "        if action == 'UP':\n",
        "            if last_location[0] == 0:\n",
        "                reward = self.get_reward(last_location)\n",
        "            else:\n",
        "                self.grid[self.current_location[0], self.current_location[1]] = 0\n",
        "                self.current_location = ( self.current_location[0] - 1, self.current_location[1])\n",
        "                reward = self.get_reward(self.current_location)\n",
        "        \n",
        "        # DOWN\n",
        "        elif action == 'DOWN':\n",
        "            if last_location[0] == self.height - 1:\n",
        "                reward = self.get_reward(last_location)\n",
        "            else:\n",
        "                self.grid[self.current_location[0], self.current_location[1]] = 0\n",
        "                self.current_location = ( self.current_location[0] + 1, self.current_location[1])\n",
        "                reward = self.get_reward(self.current_location)\n",
        "            \n",
        "        # LEFT\n",
        "        elif action == 'LEFT':\n",
        "            if last_location[1] == 0:\n",
        "                reward = self.get_reward(last_location)\n",
        "            else:\n",
        "                self.grid[self.current_location[0], self.current_location[1]] = 0\n",
        "                self.current_location = ( self.current_location[0], self.current_location[1] - 1)\n",
        "                reward = self.get_reward(self.current_location)\n",
        "\n",
        "        # RIGHT\n",
        "        elif action == 'RIGHT':\n",
        "            if last_location[1] == self.width - 1:\n",
        "                reward = self.get_reward(last_location)\n",
        "            else:\n",
        "                self.grid[self.current_location[0], self.current_location[1]] = 0\n",
        "                self.current_location = ( self.current_location[0], self.current_location[1] + 1)\n",
        "                reward = self.get_reward(self.current_location)\n",
        "        \n",
        "        #print(\"Currrent location\", self.current_location)\n",
        "                \n",
        "        return reward\n",
        "    \n",
        "    def check_state(self):\n",
        "        \"\"\"Check if the agent is in a terminal state (gold or bomb), if so return 'TERMINAL'\"\"\"\n",
        "        if self.current_location in self.terminal_states:\n",
        "            return 'TERMINAL'"
      ],
      "metadata": {
        "id": "G5a1ceB72ADU"
      },
      "execution_count": 295,
      "outputs": []
    },
    {
      "cell_type": "code",
      "source": [
        "class RandomAgent():        \n",
        "    def choose_action(self, available_actions):\n",
        "        \"\"\"Returns a random choice of the available actions\"\"\"\n",
        "        return np.random.choice(available_actions) "
      ],
      "metadata": {
        "id": "s9kL9G452Emy"
      },
      "execution_count": 296,
      "outputs": []
    },
    {
      "cell_type": "markdown",
      "source": [
        "##Random Agent"
      ],
      "metadata": {
        "id": "70zsOVQYWVo0"
      }
    },
    {
      "cell_type": "code",
      "source": [
        "env = a1()\n",
        "agent = RandomAgent()\n",
        "\n",
        "con = env.check_state()\n",
        "\n",
        "output_grid = widgets.Grid(1, 1)\n",
        "with output_grid.output_to(0, 0):\n",
        "  plt.imshow(env.grid)\n",
        "\n",
        "counter = 0\n",
        "r = 0\n",
        "while con!= \"TERMINAL\" and counter<10:\n",
        "  rand_action = agent.choose_action(env.act)\n",
        "  reward = env.step(rand_action)\n",
        "  env.grid[env.current_location[0], env.current_location[1]] = 50\n",
        "  r = r+reward\n",
        "  #print(r)\n",
        "  with output_grid.output_to(0, 0):\n",
        "    output_grid.clear_cell()\n",
        "    plt.imshow(env.grid)\n",
        "  time.sleep(1)\n",
        "  counter += 1\n",
        "\n"
      ],
      "metadata": {
        "colab": {
          "base_uri": "https://localhost:8080/",
          "height": 269
        },
        "id": "hEuOHQueUe_I",
        "outputId": "f35009fa-fbac-4ab2-8e94-1f8a1ec1906f"
      },
      "execution_count": 312,
      "outputs": [
        {
          "output_type": "display_data",
          "data": {
            "text/plain": [
              "<IPython.core.display.HTML object>"
            ],
            "text/html": [
              "<style>\n",
              "       table#id24, #id24 > tbody > tr > th, #id24 > tbody > tr > td {\n",
              "         border: 1px solid lightgray;\n",
              "         border-collapse:collapse;\n",
              "         \n",
              "        }</style>"
            ]
          },
          "metadata": {}
        },
        {
          "output_type": "display_data",
          "data": {
            "text/plain": [
              "<IPython.core.display.HTML object>"
            ],
            "text/html": [
              "<table id=id24><tr><td id=id24-0-0></td></tr></table>"
            ]
          },
          "metadata": {}
        },
        {
          "output_type": "display_data",
          "data": {
            "text/plain": [
              "<IPython.core.display.Javascript object>"
            ],
            "application/javascript": [
              "window[\"798f36c8-b95e-11ed-a12a-0242ac1c000c\"] = google.colab.output.getActiveOutputArea();\n",
              "//# sourceURL=js_13dee9f406"
            ]
          },
          "metadata": {}
        },
        {
          "output_type": "display_data",
          "data": {
            "text/plain": [
              "<IPython.core.display.Javascript object>"
            ],
            "application/javascript": [
              "window[\"798fada6-b95e-11ed-a12a-0242ac1c000c\"] = document.querySelector(\"#id24-0-0\");\n",
              "//# sourceURL=js_c5d717196b"
            ]
          },
          "metadata": {}
        },
        {
          "output_type": "display_data",
          "data": {
            "text/plain": [
              "<IPython.core.display.Javascript object>"
            ],
            "application/javascript": [
              "window[\"799025f6-b95e-11ed-a12a-0242ac1c000c\"] = google.colab.output.setActiveOutputArea(window[\"798fada6-b95e-11ed-a12a-0242ac1c000c\"]);\n",
              "//# sourceURL=js_c0d395d6b1"
            ]
          },
          "metadata": {}
        },
        {
          "output_type": "display_data",
          "data": {
            "text/plain": [
              "<IPython.core.display.Javascript object>"
            ],
            "application/javascript": [
              "window[\"79e742e6-b95e-11ed-a12a-0242ac1c000c\"] = google.colab.output.setActiveOutputArea(window[\"798f36c8-b95e-11ed-a12a-0242ac1c000c\"]);\n",
              "//# sourceURL=js_5415504aac"
            ]
          },
          "metadata": {}
        },
        {
          "output_type": "display_data",
          "data": {
            "text/plain": [
              "<IPython.core.display.Javascript object>"
            ],
            "application/javascript": [
              "window[\"79ea41f8-b95e-11ed-a12a-0242ac1c000c\"] = google.colab.output.getActiveOutputArea();\n",
              "//# sourceURL=js_c2d4e890df"
            ]
          },
          "metadata": {}
        },
        {
          "output_type": "display_data",
          "data": {
            "text/plain": [
              "<IPython.core.display.Javascript object>"
            ],
            "application/javascript": [
              "window[\"79ead9a6-b95e-11ed-a12a-0242ac1c000c\"] = document.querySelector(\"#id24-0-0\");\n",
              "//# sourceURL=js_3f6e772b76"
            ]
          },
          "metadata": {}
        },
        {
          "output_type": "display_data",
          "data": {
            "text/plain": [
              "<IPython.core.display.Javascript object>"
            ],
            "application/javascript": [
              "window[\"79eb4daa-b95e-11ed-a12a-0242ac1c000c\"] = google.colab.output.setActiveOutputArea(window[\"79ead9a6-b95e-11ed-a12a-0242ac1c000c\"]);\n",
              "//# sourceURL=js_e1685d5267"
            ]
          },
          "metadata": {}
        },
        {
          "output_type": "display_data",
          "data": {
            "text/plain": [
              "<IPython.core.display.Javascript object>"
            ],
            "application/javascript": [
              "window[\"7a09508e-b95e-11ed-a12a-0242ac1c000c\"] = google.colab.output.setActiveOutputArea(window[\"79ea41f8-b95e-11ed-a12a-0242ac1c000c\"]);\n",
              "//# sourceURL=js_923c21ddc0"
            ]
          },
          "metadata": {}
        },
        {
          "output_type": "display_data",
          "data": {
            "text/plain": [
              "<IPython.core.display.Javascript object>"
            ],
            "application/javascript": [
              "window[\"7aa4afb6-b95e-11ed-a12a-0242ac1c000c\"] = google.colab.output.getActiveOutputArea();\n",
              "//# sourceURL=js_5e6165991b"
            ]
          },
          "metadata": {}
        },
        {
          "output_type": "display_data",
          "data": {
            "text/plain": [
              "<IPython.core.display.Javascript object>"
            ],
            "application/javascript": [
              "window[\"7aa59f66-b95e-11ed-a12a-0242ac1c000c\"] = document.querySelector(\"#id24-0-0\");\n",
              "//# sourceURL=js_698df9d758"
            ]
          },
          "metadata": {}
        },
        {
          "output_type": "display_data",
          "data": {
            "text/plain": [
              "<IPython.core.display.Javascript object>"
            ],
            "application/javascript": [
              "window[\"7aa6127a-b95e-11ed-a12a-0242ac1c000c\"] = google.colab.output.setActiveOutputArea(window[\"7aa59f66-b95e-11ed-a12a-0242ac1c000c\"]);\n",
              "//# sourceURL=js_14d325da9c"
            ]
          },
          "metadata": {}
        },
        {
          "output_type": "display_data",
          "data": {
            "text/plain": [
              "<IPython.core.display.Javascript object>"
            ],
            "application/javascript": [
              "window[\"7ad65660-b95e-11ed-a12a-0242ac1c000c\"] = google.colab.output.setActiveOutputArea(window[\"7aa4afb6-b95e-11ed-a12a-0242ac1c000c\"]);\n",
              "//# sourceURL=js_44fb723f8a"
            ]
          },
          "metadata": {}
        },
        {
          "output_type": "display_data",
          "data": {
            "text/plain": [
              "<IPython.core.display.Javascript object>"
            ],
            "application/javascript": [
              "window[\"7b7258a8-b95e-11ed-a12a-0242ac1c000c\"] = google.colab.output.getActiveOutputArea();\n",
              "//# sourceURL=js_7283a4ddce"
            ]
          },
          "metadata": {}
        },
        {
          "output_type": "display_data",
          "data": {
            "text/plain": [
              "<IPython.core.display.Javascript object>"
            ],
            "application/javascript": [
              "window[\"7b72f254-b95e-11ed-a12a-0242ac1c000c\"] = document.querySelector(\"#id24-0-0\");\n",
              "//# sourceURL=js_736d2c1804"
            ]
          },
          "metadata": {}
        },
        {
          "output_type": "display_data",
          "data": {
            "text/plain": [
              "<IPython.core.display.Javascript object>"
            ],
            "application/javascript": [
              "window[\"7b7375f8-b95e-11ed-a12a-0242ac1c000c\"] = google.colab.output.setActiveOutputArea(window[\"7b72f254-b95e-11ed-a12a-0242ac1c000c\"]);\n",
              "//# sourceURL=js_284208c785"
            ]
          },
          "metadata": {}
        },
        {
          "output_type": "display_data",
          "data": {
            "text/plain": [
              "<IPython.core.display.Javascript object>"
            ],
            "application/javascript": [
              "window[\"7b9305b2-b95e-11ed-a12a-0242ac1c000c\"] = google.colab.output.setActiveOutputArea(window[\"7b7258a8-b95e-11ed-a12a-0242ac1c000c\"]);\n",
              "//# sourceURL=js_c239d937ca"
            ]
          },
          "metadata": {}
        },
        {
          "output_type": "display_data",
          "data": {
            "text/plain": [
              "<IPython.core.display.Javascript object>"
            ],
            "application/javascript": [
              "window[\"7c2edb72-b95e-11ed-a12a-0242ac1c000c\"] = google.colab.output.getActiveOutputArea();\n",
              "//# sourceURL=js_37e54421d7"
            ]
          },
          "metadata": {}
        },
        {
          "output_type": "display_data",
          "data": {
            "text/plain": [
              "<IPython.core.display.Javascript object>"
            ],
            "application/javascript": [
              "window[\"7c2f6934-b95e-11ed-a12a-0242ac1c000c\"] = document.querySelector(\"#id24-0-0\");\n",
              "//# sourceURL=js_4397eaa99d"
            ]
          },
          "metadata": {}
        },
        {
          "output_type": "display_data",
          "data": {
            "text/plain": [
              "<IPython.core.display.Javascript object>"
            ],
            "application/javascript": [
              "window[\"7c2fed50-b95e-11ed-a12a-0242ac1c000c\"] = google.colab.output.setActiveOutputArea(window[\"7c2f6934-b95e-11ed-a12a-0242ac1c000c\"]);\n",
              "//# sourceURL=js_45f8d02314"
            ]
          },
          "metadata": {}
        },
        {
          "output_type": "display_data",
          "data": {
            "text/plain": [
              "<IPython.core.display.Javascript object>"
            ],
            "application/javascript": [
              "window[\"7c4fd606-b95e-11ed-a12a-0242ac1c000c\"] = google.colab.output.setActiveOutputArea(window[\"7c2edb72-b95e-11ed-a12a-0242ac1c000c\"]);\n",
              "//# sourceURL=js_7d6166d567"
            ]
          },
          "metadata": {}
        },
        {
          "output_type": "display_data",
          "data": {
            "text/plain": [
              "<IPython.core.display.Javascript object>"
            ],
            "application/javascript": [
              "window[\"7cebd8b2-b95e-11ed-a12a-0242ac1c000c\"] = google.colab.output.getActiveOutputArea();\n",
              "//# sourceURL=js_47d09b1947"
            ]
          },
          "metadata": {}
        },
        {
          "output_type": "display_data",
          "data": {
            "text/plain": [
              "<IPython.core.display.Javascript object>"
            ],
            "application/javascript": [
              "window[\"7cec93d8-b95e-11ed-a12a-0242ac1c000c\"] = document.querySelector(\"#id24-0-0\");\n",
              "//# sourceURL=js_9e8145d2ff"
            ]
          },
          "metadata": {}
        },
        {
          "output_type": "display_data",
          "data": {
            "text/plain": [
              "<IPython.core.display.Javascript object>"
            ],
            "application/javascript": [
              "window[\"7ced2096-b95e-11ed-a12a-0242ac1c000c\"] = google.colab.output.setActiveOutputArea(window[\"7cec93d8-b95e-11ed-a12a-0242ac1c000c\"]);\n",
              "//# sourceURL=js_6a77fbac2e"
            ]
          },
          "metadata": {}
        },
        {
          "output_type": "display_data",
          "data": {
            "text/plain": [
              "<IPython.core.display.Javascript object>"
            ],
            "application/javascript": [
              "window[\"7d0b86c6-b95e-11ed-a12a-0242ac1c000c\"] = google.colab.output.setActiveOutputArea(window[\"7cebd8b2-b95e-11ed-a12a-0242ac1c000c\"]);\n",
              "//# sourceURL=js_2bb1eb5b26"
            ]
          },
          "metadata": {}
        },
        {
          "output_type": "display_data",
          "data": {
            "text/plain": [
              "<IPython.core.display.Javascript object>"
            ],
            "application/javascript": [
              "window[\"7da78580-b95e-11ed-a12a-0242ac1c000c\"] = google.colab.output.getActiveOutputArea();\n",
              "//# sourceURL=js_9c02ed336b"
            ]
          },
          "metadata": {}
        },
        {
          "output_type": "display_data",
          "data": {
            "text/plain": [
              "<IPython.core.display.Javascript object>"
            ],
            "application/javascript": [
              "window[\"7da80e7e-b95e-11ed-a12a-0242ac1c000c\"] = document.querySelector(\"#id24-0-0\");\n",
              "//# sourceURL=js_0ab86cf14d"
            ]
          },
          "metadata": {}
        },
        {
          "output_type": "display_data",
          "data": {
            "text/plain": [
              "<IPython.core.display.Javascript object>"
            ],
            "application/javascript": [
              "window[\"7da8b676-b95e-11ed-a12a-0242ac1c000c\"] = google.colab.output.setActiveOutputArea(window[\"7da80e7e-b95e-11ed-a12a-0242ac1c000c\"]);\n",
              "//# sourceURL=js_c5cd7d5ca3"
            ]
          },
          "metadata": {}
        },
        {
          "output_type": "display_data",
          "data": {
            "text/plain": [
              "<IPython.core.display.Javascript object>"
            ],
            "application/javascript": [
              "window[\"7dca3cd8-b95e-11ed-a12a-0242ac1c000c\"] = google.colab.output.setActiveOutputArea(window[\"7da78580-b95e-11ed-a12a-0242ac1c000c\"]);\n",
              "//# sourceURL=js_54ef66395a"
            ]
          },
          "metadata": {}
        },
        {
          "output_type": "display_data",
          "data": {
            "text/plain": [
              "<IPython.core.display.Javascript object>"
            ],
            "application/javascript": [
              "window[\"7e65a13c-b95e-11ed-a12a-0242ac1c000c\"] = google.colab.output.getActiveOutputArea();\n",
              "//# sourceURL=js_3711059001"
            ]
          },
          "metadata": {}
        },
        {
          "output_type": "display_data",
          "data": {
            "text/plain": [
              "<IPython.core.display.Javascript object>"
            ],
            "application/javascript": [
              "window[\"7e661874-b95e-11ed-a12a-0242ac1c000c\"] = document.querySelector(\"#id24-0-0\");\n",
              "//# sourceURL=js_f38c03330a"
            ]
          },
          "metadata": {}
        },
        {
          "output_type": "display_data",
          "data": {
            "text/plain": [
              "<IPython.core.display.Javascript object>"
            ],
            "application/javascript": [
              "window[\"7e668d2c-b95e-11ed-a12a-0242ac1c000c\"] = google.colab.output.setActiveOutputArea(window[\"7e661874-b95e-11ed-a12a-0242ac1c000c\"]);\n",
              "//# sourceURL=js_531e481980"
            ]
          },
          "metadata": {}
        },
        {
          "output_type": "display_data",
          "data": {
            "text/plain": [
              "<IPython.core.display.Javascript object>"
            ],
            "application/javascript": [
              "window[\"7e866994-b95e-11ed-a12a-0242ac1c000c\"] = google.colab.output.setActiveOutputArea(window[\"7e65a13c-b95e-11ed-a12a-0242ac1c000c\"]);\n",
              "//# sourceURL=js_112ca6acde"
            ]
          },
          "metadata": {}
        },
        {
          "output_type": "display_data",
          "data": {
            "text/plain": [
              "<IPython.core.display.Javascript object>"
            ],
            "application/javascript": [
              "window[\"7f22b128-b95e-11ed-a12a-0242ac1c000c\"] = google.colab.output.getActiveOutputArea();\n",
              "//# sourceURL=js_9867a56858"
            ]
          },
          "metadata": {}
        },
        {
          "output_type": "display_data",
          "data": {
            "text/plain": [
              "<IPython.core.display.Javascript object>"
            ],
            "application/javascript": [
              "window[\"7f2333be-b95e-11ed-a12a-0242ac1c000c\"] = document.querySelector(\"#id24-0-0\");\n",
              "//# sourceURL=js_cb34ad26a0"
            ]
          },
          "metadata": {}
        },
        {
          "output_type": "display_data",
          "data": {
            "text/plain": [
              "<IPython.core.display.Javascript object>"
            ],
            "application/javascript": [
              "window[\"7f23f150-b95e-11ed-a12a-0242ac1c000c\"] = google.colab.output.setActiveOutputArea(window[\"7f2333be-b95e-11ed-a12a-0242ac1c000c\"]);\n",
              "//# sourceURL=js_1326cdf3c1"
            ]
          },
          "metadata": {}
        },
        {
          "output_type": "display_data",
          "data": {
            "text/plain": [
              "<IPython.core.display.Javascript object>"
            ],
            "application/javascript": [
              "window[\"7f452e9c-b95e-11ed-a12a-0242ac1c000c\"] = google.colab.output.setActiveOutputArea(window[\"7f22b128-b95e-11ed-a12a-0242ac1c000c\"]);\n",
              "//# sourceURL=js_3af4fe229e"
            ]
          },
          "metadata": {}
        },
        {
          "output_type": "display_data",
          "data": {
            "text/plain": [
              "<IPython.core.display.Javascript object>"
            ],
            "application/javascript": [
              "window[\"7fe0e6f2-b95e-11ed-a12a-0242ac1c000c\"] = google.colab.output.getActiveOutputArea();\n",
              "//# sourceURL=js_694636d80b"
            ]
          },
          "metadata": {}
        },
        {
          "output_type": "display_data",
          "data": {
            "text/plain": [
              "<IPython.core.display.Javascript object>"
            ],
            "application/javascript": [
              "window[\"7fe176da-b95e-11ed-a12a-0242ac1c000c\"] = document.querySelector(\"#id24-0-0\");\n",
              "//# sourceURL=js_c151ac5106"
            ]
          },
          "metadata": {}
        },
        {
          "output_type": "display_data",
          "data": {
            "text/plain": [
              "<IPython.core.display.Javascript object>"
            ],
            "application/javascript": [
              "window[\"7fe212de-b95e-11ed-a12a-0242ac1c000c\"] = google.colab.output.setActiveOutputArea(window[\"7fe176da-b95e-11ed-a12a-0242ac1c000c\"]);\n",
              "//# sourceURL=js_bce22698f0"
            ]
          },
          "metadata": {}
        },
        {
          "output_type": "display_data",
          "data": {
            "text/plain": [
              "<IPython.core.display.Javascript object>"
            ],
            "application/javascript": [
              "window[\"8001ad24-b95e-11ed-a12a-0242ac1c000c\"] = google.colab.output.setActiveOutputArea(window[\"7fe0e6f2-b95e-11ed-a12a-0242ac1c000c\"]);\n",
              "//# sourceURL=js_0699cf404a"
            ]
          },
          "metadata": {}
        },
        {
          "output_type": "display_data",
          "data": {
            "text/plain": [
              "<IPython.core.display.Javascript object>"
            ],
            "application/javascript": [
              "window[\"809d4c34-b95e-11ed-a12a-0242ac1c000c\"] = google.colab.output.getActiveOutputArea();\n",
              "//# sourceURL=js_468359df7d"
            ]
          },
          "metadata": {}
        },
        {
          "output_type": "display_data",
          "data": {
            "text/plain": [
              "<IPython.core.display.Javascript object>"
            ],
            "application/javascript": [
              "window[\"809dfc06-b95e-11ed-a12a-0242ac1c000c\"] = document.querySelector(\"#id24-0-0\");\n",
              "//# sourceURL=js_808c47cbc5"
            ]
          },
          "metadata": {}
        },
        {
          "output_type": "display_data",
          "data": {
            "text/plain": [
              "<IPython.core.display.Javascript object>"
            ],
            "application/javascript": [
              "window[\"809e9878-b95e-11ed-a12a-0242ac1c000c\"] = google.colab.output.setActiveOutputArea(window[\"809dfc06-b95e-11ed-a12a-0242ac1c000c\"]);\n",
              "//# sourceURL=js_208201ed5f"
            ]
          },
          "metadata": {}
        },
        {
          "output_type": "display_data",
          "data": {
            "text/plain": [
              "<Figure size 432x288 with 1 Axes>"
            ],
            "image/png": "[encoded data removed]"
          },
          "metadata": {
            "needs_background": "light"
          }
        },
        {
          "output_type": "display_data",
          "data": {
            "text/plain": [
              "<IPython.core.display.Javascript object>"
            ],
            "application/javascript": [
              "window[\"80c26b36-b95e-11ed-a12a-0242ac1c000c\"] = google.colab.output.setActiveOutputArea(window[\"809d4c34-b95e-11ed-a12a-0242ac1c000c\"]);\n",
              "//# sourceURL=js_e7098280f0"
            ]
          },
          "metadata": {}
        }
      ]
    },
    {
      "cell_type": "markdown",
      "source": [
        "##Q-Learning Agent"
      ],
      "metadata": {
        "id": "HP9UMyhFTQh2"
      }
    },
    {
      "cell_type": "code",
      "source": [
        "class qlearning():\n",
        "    def __init__(self, environment, alpha=0.1, gamma=0.97):\n",
        "        self.environment = environment\n",
        "        self.q_table = dict() # Q Table is a dictionary of dictionaries\n",
        "        for x in range(environment.height): #Adding action space to each cell of the grid\n",
        "            for y in range(environment.width):\n",
        "                self.q_table[(x,y)] = {'UP':0, 'DOWN':0, 'LEFT':0, 'RIGHT':0} \n",
        "\n",
        "        self.alpha = alpha\n",
        "        self.gamma = gamma\n",
        "        \n",
        "    def choose_action(self, available_actions, epsilon):\n",
        "        if np.random.uniform(0,1) < epsilon:\n",
        "            action = available_actions[np.random.randint(0, len(available_actions))]\n",
        "        else:\n",
        "            q_values_of_state = self.q_table[self.environment.current_location]\n",
        "            maxValue = max(q_values_of_state.values())\n",
        "            action = np.random.choice([k for k, v in q_values_of_state.items() if v == maxValue])\n",
        "        \n",
        "        return action\n",
        "    \n",
        "    def learn(self, old_state, reward, new_state, action):\n",
        "        q_values_of_state = self.q_table[new_state]\n",
        "        max_q_value_in_new_state = max(q_values_of_state.values())\n",
        "        current_q_value = self.q_table[old_state][action]\n",
        "        \n",
        "        self.q_table[old_state][action] = (1 - self.alpha) * current_q_value + self.alpha * (reward + self.gamma * max_q_value_in_new_state)\n"
      ],
      "metadata": {
        "id": "AB3kOR8i2HKi"
      },
      "execution_count": 335,
      "outputs": []
    },
    {
      "cell_type": "code",
      "source": [
        "def play(environment, agent, trials=500, max_steps_per_episode=1000, epsilon = 0.996, decay = 0.95):\n",
        "    reward_per_episode = []\n",
        "    eps_list = []\n",
        "    eps = epsilon\n",
        "    for trial in range(trials):\n",
        "        cumulative_reward = 0 \n",
        "        step = 0\n",
        "        game_over = False\n",
        "        while step < max_steps_per_episode and game_over != True: \n",
        "            old_state = environment.current_location\n",
        "            action = agent.choose_action(['UP', 'DOWN', 'LEFT', 'RIGHT'], eps) \n",
        "            reward = environment.step(action)\n",
        "            new_state = environment.current_location\n",
        "            \n",
        "            agent.learn(old_state, reward, new_state, action)\n",
        "                \n",
        "            cumulative_reward += reward\n",
        "            step += 1\n",
        "            \n",
        "            if environment.check_state() == 'TERMINAL': \n",
        "                environment.__init__()\n",
        "                game_over = True     \n",
        "                \n",
        "        reward_per_episode.append(cumulative_reward) \n",
        "        eps_list.append(eps)\n",
        "        eps = eps * decay\n",
        "\n",
        "        \n",
        "    return reward_per_episode, eps_list"
      ],
      "metadata": {
        "id": "eFjoFMdS2KQu"
      },
      "execution_count": 336,
      "outputs": []
    },
    {
      "cell_type": "code",
      "source": [
        "environment = a1()\n",
        "agentQ = qlearning(environment)\n",
        "\n",
        "reward_per_episode, epsilon_decay = play(environment, agentQ, trials=1500)\n",
        "\n",
        "plt.plot(reward_per_episode)\n",
        "plt.title(\"Epsilon Decay\")\n",
        "plt.ylabel(\"Reward per episode\")\n",
        "plt.xlabel(\"Number of steps\")"
      ],
      "metadata": {
        "colab": {
          "base_uri": "https://localhost:8080/",
          "height": 313
        },
        "id": "a6Ypg5SX2c82",
        "outputId": "2b609786-7bc1-44f4-b7fe-742fa79559a6"
      },
      "execution_count": 337,
      "outputs": [
        {
          "output_type": "execute_result",
          "data": {
            "text/plain": [
              "Text(0.5, 0, 'Number of steps')"
            ]
          },
          "metadata": {},
          "execution_count": 337
        },
        {
          "output_type": "display_data",
          "data": {
            "text/plain": [
              "<Figure size 432x288 with 1 Axes>"
            ],
            "image/png": "[encoded data removed]"
          },
          "metadata": {
            "needs_background": "light"
          }
        }
      ]
    },
    {
      "cell_type": "code",
      "source": [
        "import pickle\n",
        "with open('q_values(QLearning).pickle', 'wb') as export:\n",
        "  pickle.dump(agentQ.q_table, export)"
      ],
      "metadata": {
        "id": "-re8U7XY2lNJ"
      },
      "execution_count": 301,
      "outputs": []
    },
    {
      "cell_type": "code",
      "source": [
        "with open('q_values(QLearning).pickle', 'rb') as impor:\n",
        "  q_values_imported = pickle.load(impor)\n",
        "\n",
        "#q_values_imported"
      ],
      "metadata": {
        "id": "7t-NitlxCNhr"
      },
      "execution_count": 302,
      "outputs": []
    },
    {
      "cell_type": "code",
      "source": [
        "plt.plot(epsilon_decay)\n",
        "plt.title(\"Epsilon Decay\")\n",
        "plt.ylabel(\"Epsilon\")\n",
        "plt.xlabel(\"Number of steps\")"
      ],
      "metadata": {
        "colab": {
          "base_uri": "https://localhost:8080/",
          "height": 313
        },
        "id": "aHw5muUQCSqO",
        "outputId": "d9e916fb-fa54-4345-df18-82f0244b15cf"
      },
      "execution_count": 338,
      "outputs": [
        {
          "output_type": "execute_result",
          "data": {
            "text/plain": [
              "Text(0.5, 0, 'Number of steps')"
            ]
          },
          "metadata": {},
          "execution_count": 338
        },
        {
          "output_type": "display_data",
          "data": {
            "text/plain": [
              "<Figure size 432x288 with 1 Axes>"
            ],
            "image/png": "[encoded data removed]"
          },
          "metadata": {
            "needs_background": "light"
          }
        }
      ]
    },
    {
      "cell_type": "markdown",
      "source": [
        "###Q-Learning Agent Testing"
      ],
      "metadata": {
        "id": "7O2ArnIMWx6u"
      }
    },
    {
      "cell_type": "code",
      "source": [
        "environment_testing = a1()\n",
        "qagent_testing = qlearning(environment_testing)\n",
        "rrr = 0\n",
        "x=0\n",
        "plo = []\n",
        "while environment_testing.check_state() != \"TERMINAL\":\n",
        "  q_values_of_state = q_values_imported[new_state]\n",
        "  maxValue = max(q_values_of_state.values())\n",
        "  action = np.random.choice([k for k, v in q_values_of_state.items() if v == maxValue])\n",
        "  #print(action)\n",
        "  reward = environment_testing.step(action)\n",
        "  new_state = environment_testing.current_location\n",
        "  rrr += reward\n",
        "  plo.append(rrr)\n",
        "  x+=1\n",
        "print(\"Number of steps: \",x)\n",
        "\n",
        "\n",
        "plt.plot(plo)"
      ],
      "metadata": {
        "colab": {
          "base_uri": "https://localhost:8080/",
          "height": 301
        },
        "id": "YNbu0JyHH132",
        "outputId": "5c8eaa3d-b6ec-4734-a5ba-d74a0649bee5"
      },
      "execution_count": 304,
      "outputs": [
        {
          "output_type": "stream",
          "name": "stdout",
          "text": [
            "Number of steps:  6\n"
          ]
        },
        {
          "output_type": "execute_result",
          "data": {
            "text/plain": [
              "[<matplotlib.lines.Line2D at 0x7fbf96154160>]"
            ]
          },
          "metadata": {},
          "execution_count": 304
        },
        {
          "output_type": "display_data",
          "data": {
            "text/plain": [
              "<Figure size 432x288 with 1 Axes>"
            ],
            "image/png": "[encoded data removed]"
          },
          "metadata": {
            "needs_background": "light"
          }
        }
      ]
    },
    {
      "cell_type": "markdown",
      "source": [
        "##SARSA"
      ],
      "metadata": {
        "id": "uzbQmSZAXMdG"
      }
    },
    {
      "cell_type": "code",
      "source": [
        "class sarsa():\n",
        "    def __init__(self, environment, alpha=0.2, gamma=0.98):\n",
        "        self.environment = environment\n",
        "        self.q_table = dict() \n",
        "        for x in range(environment.height):\n",
        "            for y in range(environment.width):\n",
        "                self.q_table[(x,y)] = {'UP':0, 'DOWN':0, 'LEFT':0, 'RIGHT':0}\n",
        "\n",
        "        self.alpha = alpha\n",
        "        self.gamma = gamma\n",
        "        \n",
        "    def choose_action(self, available_actions, epsilon):\n",
        "        if np.random.uniform(0,1) < epsilon:\n",
        "            action = available_actions[np.random.randint(0, len(available_actions))]\n",
        "        else:\n",
        "            q_values_of_state = self.q_table[self.environment.current_location]\n",
        "            maxValue = max(q_values_of_state.values())\n",
        "            action = np.random.choice([k for k, v in q_values_of_state.items() if v == maxValue])\n",
        "        \n",
        "        return action\n",
        "    \n",
        "    def learn(self, old_state, reward, new_state, action, next_action):\n",
        "        current_q_value = self.q_table[old_state][action]\n",
        "        \n",
        "        \n",
        "        self.q_table[old_state][action] = (1 - self.alpha) * current_q_value + self.alpha * (reward + self.gamma * self.q_table[new_state][next_action])\n"
      ],
      "metadata": {
        "id": "RJql2UD-XLHR"
      },
      "execution_count": 345,
      "outputs": []
    },
    {
      "cell_type": "code",
      "source": [
        "def sar_play(environment, agent, trials=500, max_steps_per_episode=20, epsilon = 0.996, decay = 0.95):\n",
        "    reward_per_episode = []\n",
        "    eps_list = []\n",
        "    eps = epsilon\n",
        "    for trial in range(trials):\n",
        "        cumulative_reward = 0 \n",
        "        step = 0\n",
        "        game_over = False\n",
        "        while step < max_steps_per_episode and game_over != True: \n",
        "            old_state = environment.current_location\n",
        "            action = agent.choose_action(['UP', 'DOWN', 'LEFT', 'RIGHT'], eps) \n",
        "            reward = environment.step(action)\n",
        "            new_state = environment.current_location\n",
        "            next_action = agent.choose_action(['UP', 'DOWN', 'LEFT', 'RIGHT'], eps)\n",
        "            \n",
        "            agent.learn(old_state, reward, new_state, action, next_action)\n",
        "                \n",
        "            cumulative_reward += reward\n",
        "            step += 1\n",
        "            \n",
        "            if environment.check_state() == 'TERMINAL':\n",
        "                environment.__init__()\n",
        "                game_over = True     \n",
        "                \n",
        "        reward_per_episode.append(cumulative_reward)\n",
        "        #print(\"Cumulative reward\", cumulative_reward)\n",
        "        eps_list.append(eps)\n",
        "        eps = eps * decay\n",
        "\n",
        "        \n",
        "    return reward_per_episode, eps_list "
      ],
      "metadata": {
        "id": "_oPg1Jgmc7jG"
      },
      "execution_count": 346,
      "outputs": []
    },
    {
      "cell_type": "code",
      "source": [
        "environment_sarsa = a1()\n",
        "agent_sarsa = sarsa(environment_sarsa)\n",
        "\n",
        "# Note the learn=True argument!\n",
        "reward_per_episode, epsilon_decay = sar_play(environment_sarsa, agent_sarsa, trials=1000)\n",
        "\n",
        "# Simple learning curve\n",
        "plt.plot(reward_per_episode)\n",
        "plt.title(\"Rewards\")\n",
        "plt.ylabel(\"Epsilon\")\n",
        "plt.xlabel(\"Number of steps\")"
      ],
      "metadata": {
        "colab": {
          "base_uri": "https://localhost:8080/",
          "height": 313
        },
        "id": "enbQUB_ydIjd",
        "outputId": "3008415c-f4d3-4176-a650-86d421cea018"
      },
      "execution_count": 347,
      "outputs": [
        {
          "output_type": "execute_result",
          "data": {
            "text/plain": [
              "Text(0.5, 0, 'Number of steps')"
            ]
          },
          "metadata": {},
          "execution_count": 347
        },
        {
          "output_type": "display_data",
          "data": {
            "text/plain": [
              "<Figure size 432x288 with 1 Axes>"
            ],
            "image/png": "[encoded data removed]"
          },
          "metadata": {
            "needs_background": "light"
          }
        }
      ]
    },
    {
      "cell_type": "code",
      "source": [
        "plt.plot(epsilon_decay)\n",
        "plt.title(\"Epsilon Decay\")\n",
        "plt.ylabel(\"Epsilon\")\n",
        "plt.xlabel(\"Number of steps\")"
      ],
      "metadata": {
        "colab": {
          "base_uri": "https://localhost:8080/",
          "height": 313
        },
        "id": "gEEA9KjpdXk8",
        "outputId": "b1faa404-58ea-4115-d97f-aeb4af44653d"
      },
      "execution_count": 348,
      "outputs": [
        {
          "output_type": "execute_result",
          "data": {
            "text/plain": [
              "Text(0.5, 0, 'Number of steps')"
            ]
          },
          "metadata": {},
          "execution_count": 348
        },
        {
          "output_type": "display_data",
          "data": {
            "text/plain": [
              "<Figure size 432x288 with 1 Axes>"
            ],
            "image/png": "[encoded data removed]"
          },
          "metadata": {
            "needs_background": "light"
          }
        }
      ]
    },
    {
      "cell_type": "code",
      "source": [
        "import pickle\n",
        "with open('q_values(SARSA).pickle', 'wb') as export:\n",
        "  pickle.dump(agentQ.q_table, export)"
      ],
      "metadata": {
        "id": "CWo7i7jskccz"
      },
      "execution_count": 349,
      "outputs": []
    },
    {
      "cell_type": "code",
      "source": [
        "with open('q_values(QLearning).pickle', 'rb') as impor:\n",
        "  q_values_imported_sarsa = pickle.load(impor)\n",
        "\n",
        "#q_values_imported"
      ],
      "metadata": {
        "id": "A0TM2Akrr4zN"
      },
      "execution_count": 350,
      "outputs": []
    },
    {
      "cell_type": "markdown",
      "source": [
        "###SARSA - Testing"
      ],
      "metadata": {
        "id": "qpr2EeSJwH0h"
      }
    },
    {
      "cell_type": "code",
      "source": [
        "environment_testing = a1()\n",
        "sagent_testing = sarsa(environment_testing)\n",
        "rrr = 0\n",
        "x=0\n",
        "plo = []\n",
        "while environment_testing.check_state() != \"TERMINAL\":\n",
        "  q_values_of_state = q_values_imported_sarsa[new_state]\n",
        "  maxValue = max(q_values_of_state.values())\n",
        "  action = np.random.choice([k for k, v in q_values_of_state.items() if v == maxValue])\n",
        "  #print(action)\n",
        "  reward = environment_testing.step(action)\n",
        "  new_state = environment_testing.current_location\n",
        "  rrr += reward\n",
        "  plo.append(rrr)\n",
        "  x+=1\n",
        "print(x)\n",
        "\n",
        "\n",
        "# Simple learning curve\n",
        "plt.plot(plo)"
      ],
      "metadata": {
        "colab": {
          "base_uri": "https://localhost:8080/",
          "height": 302
        },
        "id": "y-rgPa5QseV1",
        "outputId": "22f0cce9-7caf-4ab4-a420-ed8a953c9961"
      },
      "execution_count": 351,
      "outputs": [
        {
          "output_type": "stream",
          "name": "stdout",
          "text": [
            "7\n"
          ]
        },
        {
          "output_type": "execute_result",
          "data": {
            "text/plain": [
              "[<matplotlib.lines.Line2D at 0x7fbed4de4040>]"
            ]
          },
          "metadata": {},
          "execution_count": 351
        },
        {
          "output_type": "display_data",
          "data": {
            "text/plain": [
              "<Figure size 432x288 with 1 Axes>"
            ],
            "image/png": "[encoded data removed]"
          },
          "metadata": {
            "needs_background": "light"
          }
        }
      ]
    },
    {
      "cell_type": "code",
      "source": [],
      "metadata": {
        "id": "grfaaD5MtcTm"
      },
      "execution_count": 311,
      "outputs": []
    }
  ]
}