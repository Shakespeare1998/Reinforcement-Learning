{
  "nbformat": 4,
  "nbformat_minor": 0,
  "metadata": {
    "colab": {
      "provenance": [],
      "authorship_tag": "ABX9TyOTZk3dH+yVxl6DxAV7h7pB"
    },
    "kernelspec": {
      "name": "python3",
      "display_name": "Python 3"
    },
    "language_info": {
      "name": "python"
    }
  },
  "cells": [
    {
      "cell_type": "markdown",
      "source": [
        "#Assignment 1"
      ],
      "metadata": {
        "id": "UFMv19Sc4tTh"
      }
    },
    {
      "cell_type": "markdown",
      "source": [
        "##Imports"
      ],
      "metadata": {
        "id": "VbooJaJ6wPNj"
      }
    },
    {
      "cell_type": "code",
      "execution_count": 59,
      "metadata": {
        "colab": {
          "base_uri": "https://localhost:8080/"
        },
        "id": "7BNIX23iRc2I",
        "outputId": "dc2eb988-b25a-42bb-b439-b3c37a33ec5d"
      },
      "outputs": [
        {
          "output_type": "stream",
          "name": "stdout",
          "text": [
            "Looking in indexes: https://pypi.org/simple, https://us-python.pkg.dev/colab-wheels/public/simple/\n",
            "Requirement already satisfied: gymnasium in /usr/local/lib/python3.8/dist-packages (0.27.1)\n",
            "Requirement already satisfied: matplotlib in /usr/local/lib/python3.8/dist-packages (3.5.3)\n",
            "Requirement already satisfied: numpy in /usr/local/lib/python3.8/dist-packages (1.22.4)\n",
            "Requirement already satisfied: cloudpickle>=1.2.0 in /usr/local/lib/python3.8/dist-packages (from gymnasium) (2.2.1)\n",
            "Requirement already satisfied: typing-extensions>=4.3.0 in /usr/local/lib/python3.8/dist-packages (from gymnasium) (4.5.0)\n",
            "Requirement already satisfied: gymnasium-notices>=0.0.1 in /usr/local/lib/python3.8/dist-packages (from gymnasium) (0.0.1)\n",
            "Requirement already satisfied: jax-jumpy>=0.2.0 in /usr/local/lib/python3.8/dist-packages (from gymnasium) (0.2.0)\n",
            "Requirement already satisfied: importlib-metadata>=4.8.0 in /usr/local/lib/python3.8/dist-packages (from gymnasium) (6.0.0)\n",
            "Requirement already satisfied: cycler>=0.10 in /usr/local/lib/python3.8/dist-packages (from matplotlib) (0.11.0)\n",
            "Requirement already satisfied: fonttools>=4.22.0 in /usr/local/lib/python3.8/dist-packages (from matplotlib) (4.38.0)\n",
            "Requirement already satisfied: kiwisolver>=1.0.1 in /usr/local/lib/python3.8/dist-packages (from matplotlib) (1.4.4)\n",
            "Requirement already satisfied: packaging>=20.0 in /usr/local/lib/python3.8/dist-packages (from matplotlib) (23.0)\n",
            "Requirement already satisfied: pillow>=6.2.0 in /usr/local/lib/python3.8/dist-packages (from matplotlib) (8.4.0)\n",
            "Requirement already satisfied: python-dateutil>=2.7 in /usr/local/lib/python3.8/dist-packages (from matplotlib) (2.8.2)\n",
            "Requirement already satisfied: pyparsing>=2.2.1 in /usr/local/lib/python3.8/dist-packages (from matplotlib) (3.0.9)\n",
            "Requirement already satisfied: zipp>=0.5 in /usr/local/lib/python3.8/dist-packages (from importlib-metadata>=4.8.0->gymnasium) (3.15.0)\n",
            "Requirement already satisfied: six>=1.5 in /usr/local/lib/python3.8/dist-packages (from python-dateutil>=2.7->matplotlib) (1.15.0)\n"
          ]
        }
      ],
      "source": [
        "!pip install gymnasium matplotlib numpy\n",
        "from google.colab import widgets\n",
        "import gymnasium as gym\n",
        "import numpy as np\n",
        "import matplotlib.pyplot as plt\n",
        "import time\n",
        "import random\n",
        "%matplotlib inline"
      ]
    },
    {
      "cell_type": "markdown",
      "source": [
        "##Stochastic Environment"
      ],
      "metadata": {
        "id": "3g_Qwp7pwTBZ"
      }
    },
    {
      "cell_type": "code",
      "source": [
        "class a1():\n",
        "    def __init__(self):\n",
        "        #IInitializing a 5 cross 5 grid world\n",
        "        self.height = 5\n",
        "        self.width = 5\n",
        "        self.grid = np.zeros(( self.height, self.width)) - 1\n",
        "        \n",
        "        self.current_location = ( 0, 0)\n",
        "        \n",
        "        # Set locations for the pit and the end reward\n",
        "        self.dead = (4,4)\n",
        "        self.richierich = (3,3)\n",
        "        self.reward_location1 = (1,2)\n",
        "        self.reward_location2 = (2,2)\n",
        "        self.terminal_states = [ self.dead, self.richierich]\n",
        "        \n",
        "        # Setting rewards \n",
        "        self.grid[ self.dead[0], self.dead[1]] = -100\n",
        "        self.grid[ self.richierich[0], self.richierich[1]] = 100\n",
        "        self.grid[ self.reward_location1[0], self.reward_location1[1]] = 10\n",
        "        self.grid[ self.reward_location2[0], self.reward_location2[1]] = 10\n",
        "        \n",
        "        # Set available actions\n",
        "        self.act = ['UP', 'DOWN', 'LEFT', 'RIGHT']\n",
        "  \n",
        "    \n",
        "    def show_map(self):\n",
        "        grid = np.zeros(( self.height, self.width))\n",
        "        grid[ self.current_location[0], self.current_location[1]] = 1\n",
        "        return grid\n",
        "    \n",
        "    def get_reward(self, X):\n",
        "        return self.grid[ X[0], X[1]]\n",
        "        \n",
        "    \n",
        "    def step(self, action,stochasticity=0.1):\n",
        "        rando = np.random.uniform(0,1)\n",
        "        if rando<stochasticity:\n",
        "          action = random.choice([\"UP\", \"DOWN\", \"LEFT\", \"RIGHT\"])\n",
        "        last_location = self.current_location\n",
        "        #print(\"Action taken\", action)\n",
        "        # UP\n",
        "        if action == 'UP':\n",
        "            if last_location[0] == 0:\n",
        "                reward = self.get_reward(last_location)\n",
        "            else:\n",
        "                self.grid[self.current_location[0], self.current_location[1]] = 0\n",
        "                self.current_location = ( self.current_location[0] - 1, self.current_location[1])\n",
        "                reward = self.get_reward(self.current_location)\n",
        "        \n",
        "        # DOWN\n",
        "        elif action == 'DOWN':\n",
        "            if last_location[0] == self.height - 1:\n",
        "                reward = self.get_reward(last_location)\n",
        "            else:\n",
        "                self.grid[self.current_location[0], self.current_location[1]] = 0\n",
        "                self.current_location = ( self.current_location[0] + 1, self.current_location[1])\n",
        "                reward = self.get_reward(self.current_location)\n",
        "            \n",
        "        # LEFT\n",
        "        elif action == 'LEFT':\n",
        "            if last_location[1] == 0:\n",
        "                reward = self.get_reward(last_location)\n",
        "            else:\n",
        "                self.grid[self.current_location[0], self.current_location[1]] = 0\n",
        "                self.current_location = ( self.current_location[0], self.current_location[1] - 1)\n",
        "                reward = self.get_reward(self.current_location)\n",
        "\n",
        "        # RIGHT\n",
        "        elif action == 'RIGHT':\n",
        "            if last_location[1] == self.width - 1:\n",
        "                reward = self.get_reward(last_location)\n",
        "            else:\n",
        "                self.grid[self.current_location[0], self.current_location[1]] = 0\n",
        "                self.current_location = ( self.current_location[0], self.current_location[1] + 1)\n",
        "                reward = self.get_reward(self.current_location)\n",
        "        \n",
        "        #print(\"Currrent location\", self.current_location)\n",
        "                \n",
        "        return reward\n",
        "    \n",
        "    def check_state(self):\n",
        "        \"\"\"Check if the agent is in a terminal state (gold or bomb), if so return 'TERMINAL'\"\"\"\n",
        "        if self.current_location in self.terminal_states:\n",
        "            return 'TERMINAL'"
      ],
      "metadata": {
        "id": "fqpjDxWJRhXQ"
      },
      "execution_count": 60,
      "outputs": []
    },
    {
      "cell_type": "code",
      "source": [
        "class RandomAgent():        \n",
        "    # Choose a random action\n",
        "    def choose_action(self, available_actions):\n",
        "        \"\"\"Returns a random choice of the available actions\"\"\"\n",
        "        return np.random.choice(available_actions) "
      ],
      "metadata": {
        "id": "SVJ1N_GWRjGS"
      },
      "execution_count": 61,
      "outputs": []
    },
    {
      "cell_type": "markdown",
      "source": [
        "##Random Agent"
      ],
      "metadata": {
        "id": "3_bpclHtxahZ"
      }
    },
    {
      "cell_type": "code",
      "source": [
        "env = a1()\n",
        "agent = RandomAgent()\n",
        "\n",
        "con = env.check_state()\n",
        "\n",
        "output_grid = widgets.Grid(1, 1)\n",
        "with output_grid.output_to(0, 0):\n",
        "  plt.imshow(env.grid)\n",
        "\n",
        "counter = 0\n",
        "r = 0\n",
        "while con!= \"TERMINAL\" and counter<10:\n",
        "  rand_action = agent.choose_action(env.act)\n",
        "  reward = env.step(rand_action)\n",
        "  print(rand_action)\n",
        "  env.grid[env.current_location[0], env.current_location[1]] = 50\n",
        "  r = r+reward\n",
        "  #print(r)\n",
        "  with output_grid.output_to(0, 0):\n",
        "    output_grid.clear_cell()\n",
        "    plt.imshow(env.grid)\n",
        "  time.sleep(1)\n",
        "  counter += 1\n",
        "\n"
      ],
      "metadata": {
        "colab": {
          "base_uri": "https://localhost:8080/",
          "height": 448
        },
        "id": "Qlt02CZOSqbC",
        "outputId": "0ad51914-de45-45a1-8fdd-a408abdc607c"
      },
      "execution_count": 62,
      "outputs": [
        {
          "output_type": "display_data",
          "data": {
            "text/plain": [
              "<IPython.core.display.HTML object>"
            ],
            "text/html": [
              "<style>\n",
              "       table#id6, #id6 > tbody > tr > th, #id6 > tbody > tr > td {\n",
              "         border: 1px solid lightgray;\n",
              "         border-collapse:collapse;\n",
              "         \n",
              "        }</style>"
            ]
          },
          "metadata": {}
        },
        {
          "output_type": "display_data",
          "data": {
            "text/plain": [
              "<IPython.core.display.HTML object>"
            ],
            "text/html": [
              "<table id=id6><tr><td id=id6-0-0></td></tr></table>"
            ]
          },
          "metadata": {}
        },
        {
          "output_type": "display_data",
          "data": {
            "text/plain": [
              "<IPython.core.display.Javascript object>"
            ],
            "application/javascript": [
              "window[\"018be680-b968-11ed-97f1-0242ac1c000c\"] = google.colab.output.getActiveOutputArea();\n",
              "//# sourceURL=js_ec03a61c0f"
            ]
          },
          "metadata": {}
        },
        {
          "output_type": "display_data",
          "data": {
            "text/plain": [
              "<IPython.core.display.Javascript object>"
            ],
            "application/javascript": [
              "window[\"018c6614-b968-11ed-97f1-0242ac1c000c\"] = document.querySelector(\"#id6-0-0\");\n",
              "//# sourceURL=js_3dcb7d0d96"
            ]
          },
          "metadata": {}
        },
        {
          "output_type": "display_data",
          "data": {
            "text/plain": [
              "<IPython.core.display.Javascript object>"
            ],
            "application/javascript": [
              "window[\"018cd824-b968-11ed-97f1-0242ac1c000c\"] = google.colab.output.setActiveOutputArea(window[\"018c6614-b968-11ed-97f1-0242ac1c000c\"]);\n",
              "//# sourceURL=js_9adffb239d"
            ]
          },
          "metadata": {}
        },
        {
          "output_type": "display_data",
          "data": {
            "text/plain": [
              "<IPython.core.display.Javascript object>"
            ],
            "application/javascript": [
              "window[\"01cd7ece-b968-11ed-97f1-0242ac1c000c\"] = google.colab.output.setActiveOutputArea(window[\"018be680-b968-11ed-97f1-0242ac1c000c\"]);\n",
              "//# sourceURL=js_4af17596fc"
            ]
          },
          "metadata": {}
        },
        {
          "output_type": "stream",
          "name": "stdout",
          "text": [
            "UP\n"
          ]
        },
        {
          "output_type": "display_data",
          "data": {
            "text/plain": [
              "<IPython.core.display.Javascript object>"
            ],
            "application/javascript": [
              "window[\"01dbe70c-b968-11ed-97f1-0242ac1c000c\"] = google.colab.output.getActiveOutputArea();\n",
              "//# sourceURL=js_ba76a15071"
            ]
          },
          "metadata": {}
        },
        {
          "output_type": "display_data",
          "data": {
            "text/plain": [
              "<IPython.core.display.Javascript object>"
            ],
            "application/javascript": [
              "window[\"01dc4990-b968-11ed-97f1-0242ac1c000c\"] = document.querySelector(\"#id6-0-0\");\n",
              "//# sourceURL=js_4863d8f4b1"
            ]
          },
          "metadata": {}
        },
        {
          "output_type": "display_data",
          "data": {
            "text/plain": [
              "<IPython.core.display.Javascript object>"
            ],
            "application/javascript": [
              "window[\"01dd9f3e-b968-11ed-97f1-0242ac1c000c\"] = google.colab.output.setActiveOutputArea(window[\"01dc4990-b968-11ed-97f1-0242ac1c000c\"]);\n",
              "//# sourceURL=js_b2bdc5446f"
            ]
          },
          "metadata": {}
        },
        {
          "output_type": "display_data",
          "data": {
            "text/plain": [
              "<IPython.core.display.Javascript object>"
            ],
            "application/javascript": [
              "window[\"0216fe78-b968-11ed-97f1-0242ac1c000c\"] = google.colab.output.setActiveOutputArea(window[\"01dbe70c-b968-11ed-97f1-0242ac1c000c\"]);\n",
              "//# sourceURL=js_78d60cf6ec"
            ]
          },
          "metadata": {}
        },
        {
          "output_type": "stream",
          "name": "stdout",
          "text": [
            "UP\n"
          ]
        },
        {
          "output_type": "display_data",
          "data": {
            "text/plain": [
              "<IPython.core.display.Javascript object>"
            ],
            "application/javascript": [
              "window[\"02b3e60c-b968-11ed-97f1-0242ac1c000c\"] = google.colab.output.getActiveOutputArea();\n",
              "//# sourceURL=js_8c3832dfca"
            ]
          },
          "metadata": {}
        },
        {
          "output_type": "display_data",
          "data": {
            "text/plain": [
              "<IPython.core.display.Javascript object>"
            ],
            "application/javascript": [
              "window[\"02b4a498-b968-11ed-97f1-0242ac1c000c\"] = document.querySelector(\"#id6-0-0\");\n",
              "//# sourceURL=js_77bb8935a5"
            ]
          },
          "metadata": {}
        },
        {
          "output_type": "display_data",
          "data": {
            "text/plain": [
              "<IPython.core.display.Javascript object>"
            ],
            "application/javascript": [
              "window[\"02b54d44-b968-11ed-97f1-0242ac1c000c\"] = google.colab.output.setActiveOutputArea(window[\"02b4a498-b968-11ed-97f1-0242ac1c000c\"]);\n",
              "//# sourceURL=js_cb1cd9012e"
            ]
          },
          "metadata": {}
        },
        {
          "output_type": "display_data",
          "data": {
            "text/plain": [
              "<IPython.core.display.Javascript object>"
            ],
            "application/javascript": [
              "window[\"02fdd38e-b968-11ed-97f1-0242ac1c000c\"] = google.colab.output.setActiveOutputArea(window[\"02b3e60c-b968-11ed-97f1-0242ac1c000c\"]);\n",
              "//# sourceURL=js_27e8e23548"
            ]
          },
          "metadata": {}
        },
        {
          "output_type": "stream",
          "name": "stdout",
          "text": [
            "DOWN\n"
          ]
        },
        {
          "output_type": "display_data",
          "data": {
            "text/plain": [
              "<IPython.core.display.Javascript object>"
            ],
            "application/javascript": [
              "window[\"039a1c30-b968-11ed-97f1-0242ac1c000c\"] = google.colab.output.getActiveOutputArea();\n",
              "//# sourceURL=js_4ea51aec25"
            ]
          },
          "metadata": {}
        },
        {
          "output_type": "display_data",
          "data": {
            "text/plain": [
              "<IPython.core.display.Javascript object>"
            ],
            "application/javascript": [
              "window[\"039aa664-b968-11ed-97f1-0242ac1c000c\"] = document.querySelector(\"#id6-0-0\");\n",
              "//# sourceURL=js_58a5f3df6d"
            ]
          },
          "metadata": {}
        },
        {
          "output_type": "display_data",
          "data": {
            "text/plain": [
              "<IPython.core.display.Javascript object>"
            ],
            "application/javascript": [
              "window[\"039b21e8-b968-11ed-97f1-0242ac1c000c\"] = google.colab.output.setActiveOutputArea(window[\"039aa664-b968-11ed-97f1-0242ac1c000c\"]);\n",
              "//# sourceURL=js_1a3ebefdc9"
            ]
          },
          "metadata": {}
        },
        {
          "output_type": "display_data",
          "data": {
            "text/plain": [
              "<IPython.core.display.Javascript object>"
            ],
            "application/javascript": [
              "window[\"03bbc8e4-b968-11ed-97f1-0242ac1c000c\"] = google.colab.output.setActiveOutputArea(window[\"039a1c30-b968-11ed-97f1-0242ac1c000c\"]);\n",
              "//# sourceURL=js_2a490e9f7a"
            ]
          },
          "metadata": {}
        },
        {
          "output_type": "stream",
          "name": "stdout",
          "text": [
            "UP\n"
          ]
        },
        {
          "output_type": "display_data",
          "data": {
            "text/plain": [
              "<IPython.core.display.Javascript object>"
            ],
            "application/javascript": [
              "window[\"0457d144-b968-11ed-97f1-0242ac1c000c\"] = google.colab.output.getActiveOutputArea();\n",
              "//# sourceURL=js_bd11cf63a6"
            ]
          },
          "metadata": {}
        },
        {
          "output_type": "display_data",
          "data": {
            "text/plain": [
              "<IPython.core.display.Javascript object>"
            ],
            "application/javascript": [
              "window[\"0458905c-b968-11ed-97f1-0242ac1c000c\"] = document.querySelector(\"#id6-0-0\");\n",
              "//# sourceURL=js_0c8d615eb5"
            ]
          },
          "metadata": {}
        },
        {
          "output_type": "display_data",
          "data": {
            "text/plain": [
              "<IPython.core.display.Javascript object>"
            ],
            "application/javascript": [
              "window[\"04592058-b968-11ed-97f1-0242ac1c000c\"] = google.colab.output.setActiveOutputArea(window[\"0458905c-b968-11ed-97f1-0242ac1c000c\"]);\n",
              "//# sourceURL=js_74d08aa1fd"
            ]
          },
          "metadata": {}
        },
        {
          "output_type": "display_data",
          "data": {
            "text/plain": [
              "<IPython.core.display.Javascript object>"
            ],
            "application/javascript": [
              "window[\"047c0564-b968-11ed-97f1-0242ac1c000c\"] = google.colab.output.setActiveOutputArea(window[\"0457d144-b968-11ed-97f1-0242ac1c000c\"]);\n",
              "//# sourceURL=js_55efda1dcc"
            ]
          },
          "metadata": {}
        },
        {
          "output_type": "stream",
          "name": "stdout",
          "text": [
            "LEFT\n"
          ]
        },
        {
          "output_type": "display_data",
          "data": {
            "text/plain": [
              "<IPython.core.display.Javascript object>"
            ],
            "application/javascript": [
              "window[\"05179470-b968-11ed-97f1-0242ac1c000c\"] = google.colab.output.getActiveOutputArea();\n",
              "//# sourceURL=js_9dccf776cf"
            ]
          },
          "metadata": {}
        },
        {
          "output_type": "display_data",
          "data": {
            "text/plain": [
              "<IPython.core.display.Javascript object>"
            ],
            "application/javascript": [
              "window[\"051822aa-b968-11ed-97f1-0242ac1c000c\"] = document.querySelector(\"#id6-0-0\");\n",
              "//# sourceURL=js_1170a10646"
            ]
          },
          "metadata": {}
        },
        {
          "output_type": "display_data",
          "data": {
            "text/plain": [
              "<IPython.core.display.Javascript object>"
            ],
            "application/javascript": [
              "window[\"0518a4c8-b968-11ed-97f1-0242ac1c000c\"] = google.colab.output.setActiveOutputArea(window[\"051822aa-b968-11ed-97f1-0242ac1c000c\"]);\n",
              "//# sourceURL=js_7385290762"
            ]
          },
          "metadata": {}
        },
        {
          "output_type": "display_data",
          "data": {
            "text/plain": [
              "<IPython.core.display.Javascript object>"
            ],
            "application/javascript": [
              "window[\"0538214a-b968-11ed-97f1-0242ac1c000c\"] = google.colab.output.setActiveOutputArea(window[\"05179470-b968-11ed-97f1-0242ac1c000c\"]);\n",
              "//# sourceURL=js_73787aef38"
            ]
          },
          "metadata": {}
        },
        {
          "output_type": "stream",
          "name": "stdout",
          "text": [
            "DOWN\n"
          ]
        },
        {
          "output_type": "display_data",
          "data": {
            "text/plain": [
              "<IPython.core.display.Javascript object>"
            ],
            "application/javascript": [
              "window[\"05d401e6-b968-11ed-97f1-0242ac1c000c\"] = google.colab.output.getActiveOutputArea();\n",
              "//# sourceURL=js_576647850c"
            ]
          },
          "metadata": {}
        },
        {
          "output_type": "display_data",
          "data": {
            "text/plain": [
              "<IPython.core.display.Javascript object>"
            ],
            "application/javascript": [
              "window[\"05d503ac-b968-11ed-97f1-0242ac1c000c\"] = document.querySelector(\"#id6-0-0\");\n",
              "//# sourceURL=js_79d7b3d515"
            ]
          },
          "metadata": {}
        },
        {
          "output_type": "display_data",
          "data": {
            "text/plain": [
              "<IPython.core.display.Javascript object>"
            ],
            "application/javascript": [
              "window[\"05d57a26-b968-11ed-97f1-0242ac1c000c\"] = google.colab.output.setActiveOutputArea(window[\"05d503ac-b968-11ed-97f1-0242ac1c000c\"]);\n",
              "//# sourceURL=js_6c0d738b9f"
            ]
          },
          "metadata": {}
        },
        {
          "output_type": "display_data",
          "data": {
            "text/plain": [
              "<IPython.core.display.Javascript object>"
            ],
            "application/javascript": [
              "window[\"06090ea4-b968-11ed-97f1-0242ac1c000c\"] = google.colab.output.setActiveOutputArea(window[\"05d401e6-b968-11ed-97f1-0242ac1c000c\"]);\n",
              "//# sourceURL=js_f2f48fc37e"
            ]
          },
          "metadata": {}
        },
        {
          "output_type": "stream",
          "name": "stdout",
          "text": [
            "UP\n"
          ]
        },
        {
          "output_type": "display_data",
          "data": {
            "text/plain": [
              "<IPython.core.display.Javascript object>"
            ],
            "application/javascript": [
              "window[\"06a54d6e-b968-11ed-97f1-0242ac1c000c\"] = google.colab.output.getActiveOutputArea();\n",
              "//# sourceURL=js_073de77340"
            ]
          },
          "metadata": {}
        },
        {
          "output_type": "display_data",
          "data": {
            "text/plain": [
              "<IPython.core.display.Javascript object>"
            ],
            "application/javascript": [
              "window[\"06a64c50-b968-11ed-97f1-0242ac1c000c\"] = document.querySelector(\"#id6-0-0\");\n",
              "//# sourceURL=js_d2e6de0be4"
            ]
          },
          "metadata": {}
        },
        {
          "output_type": "display_data",
          "data": {
            "text/plain": [
              "<IPython.core.display.Javascript object>"
            ],
            "application/javascript": [
              "window[\"06a6fbaa-b968-11ed-97f1-0242ac1c000c\"] = google.colab.output.setActiveOutputArea(window[\"06a64c50-b968-11ed-97f1-0242ac1c000c\"]);\n",
              "//# sourceURL=js_11710da734"
            ]
          },
          "metadata": {}
        },
        {
          "output_type": "display_data",
          "data": {
            "text/plain": [
              "<IPython.core.display.Javascript object>"
            ],
            "application/javascript": [
              "window[\"0710fc3a-b968-11ed-97f1-0242ac1c000c\"] = google.colab.output.setActiveOutputArea(window[\"06a54d6e-b968-11ed-97f1-0242ac1c000c\"]);\n",
              "//# sourceURL=js_27ce12cbe2"
            ]
          },
          "metadata": {}
        },
        {
          "output_type": "stream",
          "name": "stdout",
          "text": [
            "UP\n"
          ]
        },
        {
          "output_type": "display_data",
          "data": {
            "text/plain": [
              "<IPython.core.display.Javascript object>"
            ],
            "application/javascript": [
              "window[\"07ad49f0-b968-11ed-97f1-0242ac1c000c\"] = google.colab.output.getActiveOutputArea();\n",
              "//# sourceURL=js_87411f3efa"
            ]
          },
          "metadata": {}
        },
        {
          "output_type": "display_data",
          "data": {
            "text/plain": [
              "<IPython.core.display.Javascript object>"
            ],
            "application/javascript": [
              "window[\"07ae589a-b968-11ed-97f1-0242ac1c000c\"] = document.querySelector(\"#id6-0-0\");\n",
              "//# sourceURL=js_8add5797aa"
            ]
          },
          "metadata": {}
        },
        {
          "output_type": "display_data",
          "data": {
            "text/plain": [
              "<IPython.core.display.Javascript object>"
            ],
            "application/javascript": [
              "window[\"07aeedc8-b968-11ed-97f1-0242ac1c000c\"] = google.colab.output.setActiveOutputArea(window[\"07ae589a-b968-11ed-97f1-0242ac1c000c\"]);\n",
              "//# sourceURL=js_bced92f57c"
            ]
          },
          "metadata": {}
        },
        {
          "output_type": "display_data",
          "data": {
            "text/plain": [
              "<IPython.core.display.Javascript object>"
            ],
            "application/javascript": [
              "window[\"07eee07c-b968-11ed-97f1-0242ac1c000c\"] = google.colab.output.setActiveOutputArea(window[\"07ad49f0-b968-11ed-97f1-0242ac1c000c\"]);\n",
              "//# sourceURL=js_d8220ce7fb"
            ]
          },
          "metadata": {}
        },
        {
          "output_type": "stream",
          "name": "stdout",
          "text": [
            "RIGHT\n"
          ]
        },
        {
          "output_type": "display_data",
          "data": {
            "text/plain": [
              "<IPython.core.display.Javascript object>"
            ],
            "application/javascript": [
              "window[\"088d8e66-b968-11ed-97f1-0242ac1c000c\"] = google.colab.output.getActiveOutputArea();\n",
              "//# sourceURL=js_c7d3d94b41"
            ]
          },
          "metadata": {}
        },
        {
          "output_type": "display_data",
          "data": {
            "text/plain": [
              "<IPython.core.display.Javascript object>"
            ],
            "application/javascript": [
              "window[\"088f2212-b968-11ed-97f1-0242ac1c000c\"] = document.querySelector(\"#id6-0-0\");\n",
              "//# sourceURL=js_18d1512f66"
            ]
          },
          "metadata": {}
        },
        {
          "output_type": "display_data",
          "data": {
            "text/plain": [
              "<IPython.core.display.Javascript object>"
            ],
            "application/javascript": [
              "window[\"08907734-b968-11ed-97f1-0242ac1c000c\"] = google.colab.output.setActiveOutputArea(window[\"088f2212-b968-11ed-97f1-0242ac1c000c\"]);\n",
              "//# sourceURL=js_0bbe45270d"
            ]
          },
          "metadata": {}
        },
        {
          "output_type": "display_data",
          "data": {
            "text/plain": [
              "<IPython.core.display.Javascript object>"
            ],
            "application/javascript": [
              "window[\"08cd98c6-b968-11ed-97f1-0242ac1c000c\"] = google.colab.output.setActiveOutputArea(window[\"088d8e66-b968-11ed-97f1-0242ac1c000c\"]);\n",
              "//# sourceURL=js_ea3bb43566"
            ]
          },
          "metadata": {}
        },
        {
          "output_type": "stream",
          "name": "stdout",
          "text": [
            "RIGHT\n"
          ]
        },
        {
          "output_type": "display_data",
          "data": {
            "text/plain": [
              "<IPython.core.display.Javascript object>"
            ],
            "application/javascript": [
              "window[\"0969c94e-b968-11ed-97f1-0242ac1c000c\"] = google.colab.output.getActiveOutputArea();\n",
              "//# sourceURL=js_bd6f475348"
            ]
          },
          "metadata": {}
        },
        {
          "output_type": "display_data",
          "data": {
            "text/plain": [
              "<IPython.core.display.Javascript object>"
            ],
            "application/javascript": [
              "window[\"096bbfe2-b968-11ed-97f1-0242ac1c000c\"] = document.querySelector(\"#id6-0-0\");\n",
              "//# sourceURL=js_3808aeeb2e"
            ]
          },
          "metadata": {}
        },
        {
          "output_type": "display_data",
          "data": {
            "text/plain": [
              "<IPython.core.display.Javascript object>"
            ],
            "application/javascript": [
              "window[\"096d0028-b968-11ed-97f1-0242ac1c000c\"] = google.colab.output.setActiveOutputArea(window[\"096bbfe2-b968-11ed-97f1-0242ac1c000c\"]);\n",
              "//# sourceURL=js_97d74baece"
            ]
          },
          "metadata": {}
        },
        {
          "output_type": "display_data",
          "data": {
            "text/plain": [
              "<Figure size 432x288 with 1 Axes>"
            ],
            "image/png": "[encoded data removed]"
          },
          "metadata": {
            "needs_background": "light"
          }
        },
        {
          "output_type": "display_data",
          "data": {
            "text/plain": [
              "<IPython.core.display.Javascript object>"
            ],
            "application/javascript": [
              "window[\"09b0d2a8-b968-11ed-97f1-0242ac1c000c\"] = google.colab.output.setActiveOutputArea(window[\"0969c94e-b968-11ed-97f1-0242ac1c000c\"]);\n",
              "//# sourceURL=js_36babc8d3f"
            ]
          },
          "metadata": {}
        }
      ]
    },
    {
      "cell_type": "markdown",
      "source": [
        "##Q-Learning Agent"
      ],
      "metadata": {
        "id": "0zVEQUT5yEGT"
      }
    },
    {
      "cell_type": "code",
      "source": [
        "class qlearning():\n",
        "    def __init__(self, environment, alpha=0.2, gamma=0.98):\n",
        "        self.environment = environment\n",
        "        self.q_table = dict()\n",
        "        for x in range(environment.height):\n",
        "            for y in range(environment.width):\n",
        "                self.q_table[(x,y)] = {'UP':0, 'DOWN':0, 'LEFT':0, 'RIGHT':0} \n",
        "\n",
        "        self.alpha = alpha\n",
        "        self.gamma = gamma\n",
        "        \n",
        "    def choose_action(self, available_actions, epsilon):\n",
        "        if np.random.uniform(0,1) < epsilon:\n",
        "            action = available_actions[np.random.randint(0, len(available_actions))]\n",
        "        else:\n",
        "            q_values_of_state = self.q_table[self.environment.current_location]\n",
        "            maxValue = max(q_values_of_state.values())\n",
        "            action = np.random.choice([k for k, v in q_values_of_state.items() if v == maxValue])\n",
        "        \n",
        "        return action\n",
        "    \n",
        "    def learn(self, old_state, reward, new_state, action):\n",
        "        q_values_of_state = self.q_table[new_state]\n",
        "        max_q_value_in_new_state = max(q_values_of_state.values())\n",
        "        current_q_value = self.q_table[old_state][action]\n",
        "        \n",
        "        self.q_table[old_state][action] = (1 - self.alpha) * current_q_value + self.alpha * (reward + self.gamma * max_q_value_in_new_state)\n"
      ],
      "metadata": {
        "id": "LBIQTqOQyGjg"
      },
      "execution_count": 77,
      "outputs": []
    },
    {
      "cell_type": "code",
      "source": [
        "def play(environment, agent, trials=500, max_steps_per_episode=1000, epsilon = 0.996, decay = 0.95):\n",
        "    reward_per_episode = [] \n",
        "    eps_list = []\n",
        "    eps = epsilon\n",
        "    for trial in range(trials): \n",
        "        cumulative_reward = 0 \n",
        "        step = 0\n",
        "        game_over = False\n",
        "        while step < max_steps_per_episode and game_over != True: \n",
        "            old_state = environment.current_location\n",
        "            action = agent.choose_action(['UP', 'DOWN', 'LEFT', 'RIGHT'], eps) \n",
        "            reward = environment.step(action)\n",
        "            new_state = environment.current_location\n",
        "            \n",
        "            agent.learn(old_state, reward, new_state, action)\n",
        "                \n",
        "            cumulative_reward += reward\n",
        "            step += 1\n",
        "            \n",
        "            if environment.check_state() == 'TERMINAL':\n",
        "                environment.__init__()\n",
        "                game_over = True     \n",
        "                \n",
        "        reward_per_episode.append(cumulative_reward) \n",
        "        eps_list.append(eps)\n",
        "        eps = eps * decay\n",
        "\n",
        "        \n",
        "    return reward_per_episode, eps_list"
      ],
      "metadata": {
        "id": "DFjzuMrSyLbk"
      },
      "execution_count": 82,
      "outputs": []
    },
    {
      "cell_type": "code",
      "source": [
        "environment = a1()\n",
        "agentQ = qlearning(environment)\n",
        "\n",
        "reward_per_episode, epsilon_decay = play(environment, agentQ, trials=1500)\n",
        "\n",
        "plt.plot(reward_per_episode)\n",
        "plt.title(\"Rewards\")\n",
        "plt.ylabel(\"Reward per episode\")\n",
        "plt.xlabel(\"Number of episodes\")"
      ],
      "metadata": {
        "colab": {
          "base_uri": "https://localhost:8080/",
          "height": 313
        },
        "id": "UKGIs-I3yPfG",
        "outputId": "1ed2eb0b-f03b-4a49-ebcf-7072016f2e41"
      },
      "execution_count": 83,
      "outputs": [
        {
          "output_type": "execute_result",
          "data": {
            "text/plain": [
              "Text(0.5, 0, 'Number of episodes')"
            ]
          },
          "metadata": {},
          "execution_count": 83
        },
        {
          "output_type": "display_data",
          "data": {
            "text/plain": [
              "<Figure size 432x288 with 1 Axes>"
            ],
            "image/png": "[encoded data removed]"
          },
          "metadata": {
            "needs_background": "light"
          }
        }
      ]
    },
    {
      "cell_type": "code",
      "source": [
        "plt.plot(epsilon_decay)\n",
        "plt.title(\"Epsilon Decay\")\n",
        "plt.ylabel(\"Epsilon\")\n",
        "plt.xlabel(\"Number of episodes\")"
      ],
      "metadata": {
        "colab": {
          "base_uri": "https://localhost:8080/",
          "height": 313
        },
        "id": "MSLhrALcybrl",
        "outputId": "534373ec-bfee-418c-c02a-3495aafad2f4"
      },
      "execution_count": 84,
      "outputs": [
        {
          "output_type": "execute_result",
          "data": {
            "text/plain": [
              "Text(0.5, 0, 'Number of episodes')"
            ]
          },
          "metadata": {},
          "execution_count": 84
        },
        {
          "output_type": "display_data",
          "data": {
            "text/plain": [
              "<Figure size 432x288 with 1 Axes>"
            ],
            "image/png": "[encoded data removed]"
          },
          "metadata": {
            "needs_background": "light"
          }
        }
      ]
    },
    {
      "cell_type": "code",
      "source": [
        "import pickle\n",
        "with open('q_values(QLearning).pickle', 'wb') as export:\n",
        "  pickle.dump(agentQ.q_table, export)"
      ],
      "metadata": {
        "id": "5m2adD2syR4j"
      },
      "execution_count": 67,
      "outputs": []
    },
    {
      "cell_type": "code",
      "source": [
        "with open('q_values(QLearning).pickle', 'rb') as impor:\n",
        "  q_values_imported = pickle.load(impor)\n",
        "\n",
        "#q_values_imported"
      ],
      "metadata": {
        "id": "_015nPqUyXmX"
      },
      "execution_count": 68,
      "outputs": []
    },
    {
      "cell_type": "markdown",
      "source": [
        "###Q-Learning Agent Testing"
      ],
      "metadata": {
        "id": "4yIL_PLnyh8L"
      }
    },
    {
      "cell_type": "code",
      "source": [
        "environment_testing = a1()\n",
        "qagent_testing = qlearning(environment_testing)\n",
        "rrr = 0\n",
        "x=0\n",
        "plo = []\n",
        "while environment_testing.check_state() != \"TERMINAL\":\n",
        "  new_state = environment_testing.current_location\n",
        "  q_values_of_state = q_values_imported[new_state]\n",
        "  maxValue = max(q_values_of_state.values())\n",
        "  action = np.random.choice([k for k, v in q_values_of_state.items() if v == maxValue])\n",
        "  #print(new_state)\n",
        "  #print(action)\n",
        "  reward = environment_testing.step(action)\n",
        "  new_state = environment_testing.current_location\n",
        "  rrr += reward\n",
        "  plo.append(rrr)\n",
        "  x+=1\n",
        "print(x)\n",
        "\n",
        "\n",
        "# Simple learning curve\n",
        "plt.plot(plo)"
      ],
      "metadata": {
        "colab": {
          "base_uri": "https://localhost:8080/",
          "height": 301
        },
        "id": "jYa5zDuTyguO",
        "outputId": "a16f7376-b8cd-4ee5-9a09-2192af125c3a"
      },
      "execution_count": 69,
      "outputs": [
        {
          "output_type": "stream",
          "name": "stdout",
          "text": [
            "6\n"
          ]
        },
        {
          "output_type": "execute_result",
          "data": {
            "text/plain": [
              "[<matplotlib.lines.Line2D at 0x7fed79120100>]"
            ]
          },
          "metadata": {},
          "execution_count": 69
        },
        {
          "output_type": "display_data",
          "data": {
            "text/plain": [
              "<Figure size 432x288 with 1 Axes>"
            ],
            "image/png": "[encoded data removed]"
          },
          "metadata": {
            "needs_background": "light"
          }
        }
      ]
    },
    {
      "cell_type": "markdown",
      "source": [
        "##SARSA"
      ],
      "metadata": {
        "id": "8Z1m_4xt0UX2"
      }
    },
    {
      "cell_type": "code",
      "source": [
        "class sarsa():\n",
        "    def __init__(self, environment, alpha=0.2, gamma=0.95):\n",
        "        self.environment = environment\n",
        "        self.q_table = dict()\n",
        "        for x in range(environment.height): \n",
        "            for y in range(environment.width):\n",
        "                self.q_table[(x,y)] = {'UP':0, 'DOWN':0, 'LEFT':0, 'RIGHT':0}\n",
        "\n",
        "        self.alpha = alpha\n",
        "        self.gamma = gamma\n",
        "        \n",
        "    def choose_action(self, available_actions, epsilon):\n",
        "        if np.random.uniform(0,1) < epsilon:\n",
        "            action = available_actions[np.random.randint(0, len(available_actions))]\n",
        "        else:\n",
        "            q_values_of_state = self.q_table[self.environment.current_location]\n",
        "            maxValue = max(q_values_of_state.values())\n",
        "            action = np.random.choice([k for k, v in q_values_of_state.items() if v == maxValue])\n",
        "        \n",
        "        return action\n",
        "    \n",
        "    def learn(self, old_state, reward, new_state, action, next_action):\n",
        "        current_q_value = self.q_table[old_state][action]\n",
        "        \n",
        "        \n",
        "        self.q_table[old_state][action] = (1 - self.alpha) * current_q_value + self.alpha * (reward + self.gamma * self.q_table[new_state][next_action])\n"
      ],
      "metadata": {
        "id": "pgRjsxpEyZS8"
      },
      "execution_count": 70,
      "outputs": []
    },
    {
      "cell_type": "code",
      "source": [
        "def sar_play(environment, agent, trials=500, max_steps_per_episode=20, epsilon = 0.996, decay = 0.95):\n",
        "    reward_per_episode = [] \n",
        "    eps_list = []\n",
        "    eps = epsilon\n",
        "    for trial in range(trials): \n",
        "        cumulative_reward = 0 \n",
        "        step = 0\n",
        "        game_over = False\n",
        "        while step < max_steps_per_episode and game_over != True:\n",
        "            old_state = environment.current_location\n",
        "            action = agent.choose_action(['UP', 'DOWN', 'LEFT', 'RIGHT'], eps) \n",
        "            reward = environment.step(action)\n",
        "            new_state = environment.current_location\n",
        "            next_action = agent.choose_action(['UP', 'DOWN', 'LEFT', 'RIGHT'], eps)\n",
        "            \n",
        "            agent.learn(old_state, reward, new_state, action, next_action)\n",
        "                \n",
        "            cumulative_reward += reward\n",
        "            step += 1\n",
        "            \n",
        "            if environment.check_state() == 'TERMINAL':\n",
        "                environment.__init__()\n",
        "                game_over = True     \n",
        "                \n",
        "        reward_per_episode.append(cumulative_reward)\n",
        "        #print(\"Cumulative reward\", cumulative_reward)\n",
        "        eps_list.append(eps)\n",
        "        eps = eps * decay\n",
        "\n",
        "        \n",
        "    return reward_per_episode, eps_list"
      ],
      "metadata": {
        "id": "dWIUc1_10WCB"
      },
      "execution_count": 87,
      "outputs": []
    },
    {
      "cell_type": "code",
      "source": [
        "environment_sarsa = a1()\n",
        "agent_sarsa = sarsa(environment_sarsa)\n",
        "\n",
        "reward_per_episode, epsilon_decay = sar_play(environment_sarsa, agent_sarsa, trials=1000)\n",
        "\n",
        "plt.plot(reward_per_episode)\n",
        "plt.title(\"Rewards\")\n",
        "plt.ylabel(\"Rewards per episode\")\n",
        "plt.xlabel(\"Number of episodes\")"
      ],
      "metadata": {
        "colab": {
          "base_uri": "https://localhost:8080/",
          "height": 313
        },
        "id": "qH1T2nQZ0YFT",
        "outputId": "aa037536-fbd9-40b5-ccf6-4cf6be4995cb"
      },
      "execution_count": 88,
      "outputs": [
        {
          "output_type": "execute_result",
          "data": {
            "text/plain": [
              "Text(0.5, 0, 'Number of episodes')"
            ]
          },
          "metadata": {},
          "execution_count": 88
        },
        {
          "output_type": "display_data",
          "data": {
            "text/plain": [
              "<Figure size 432x288 with 1 Axes>"
            ],
            "image/png": "[encoded data removed]"
          },
          "metadata": {
            "needs_background": "light"
          }
        }
      ]
    },
    {
      "cell_type": "code",
      "source": [
        "plt.plot(epsilon_decay)\n",
        "plt.title(\"Epsilon Decay\")\n",
        "plt.ylabel(\"Epsilon\")\n",
        "plt.xlabel(\"Number of episodes\")"
      ],
      "metadata": {
        "colab": {
          "base_uri": "https://localhost:8080/",
          "height": 313
        },
        "id": "zjrzyRX90aNn",
        "outputId": "17f8ffd2-5e77-4b30-cda2-dd8c2bc75d43"
      },
      "execution_count": 89,
      "outputs": [
        {
          "output_type": "execute_result",
          "data": {
            "text/plain": [
              "Text(0.5, 0, 'Number of episodes')"
            ]
          },
          "metadata": {},
          "execution_count": 89
        },
        {
          "output_type": "display_data",
          "data": {
            "text/plain": [
              "<Figure size 432x288 with 1 Axes>"
            ],
            "image/png": "[encoded data removed]"
          },
          "metadata": {
            "needs_background": "light"
          }
        }
      ]
    },
    {
      "cell_type": "code",
      "source": [
        "import pickle\n",
        "with open('q_values(SARSA).pickle', 'wb') as export:\n",
        "  pickle.dump(agentQ.q_table, export)"
      ],
      "metadata": {
        "id": "MfzQpXjG0gS4"
      },
      "execution_count": 74,
      "outputs": []
    },
    {
      "cell_type": "code",
      "source": [
        "with open('q_values(QLearning).pickle', 'rb') as impor:\n",
        "  q_values_imported_sarsa = pickle.load(impor)\n",
        "\n",
        "#q_values_imported"
      ],
      "metadata": {
        "id": "n2kSGs0c0i48"
      },
      "execution_count": 75,
      "outputs": []
    },
    {
      "cell_type": "markdown",
      "source": [],
      "metadata": {
        "id": "JzSkPYK94fUo"
      }
    },
    {
      "cell_type": "markdown",
      "source": [
        "###SARSA Testing"
      ],
      "metadata": {
        "id": "OBgCnNki1L7S"
      }
    },
    {
      "cell_type": "code",
      "source": [
        "environment_testing = a1()\n",
        "sagent_testing = sarsa(environment_testing)\n",
        "rrr = 0\n",
        "x=0\n",
        "plo = []\n",
        "while environment_testing.check_state() != \"TERMINAL\":\n",
        "  q_values_of_state = q_values_imported_sarsa[new_state]\n",
        "  maxValue = max(q_values_of_state.values())\n",
        "  action = np.random.choice([k for k, v in q_values_of_state.items() if v == maxValue])\n",
        "  #print(action)\n",
        "  reward = environment_testing.step(action)\n",
        "  new_state = environment_testing.current_location\n",
        "  rrr += reward\n",
        "  plo.append(rrr)\n",
        "  x+=1\n",
        "print(x)\n",
        "\n",
        "\n",
        "# Simple learning curve\n",
        "plt.plot(plo)"
      ],
      "metadata": {
        "colab": {
          "base_uri": "https://localhost:8080/",
          "height": 301
        },
        "id": "s35tLO8x0lHI",
        "outputId": "3d6d5a14-1af9-409d-d4ce-7f5c6e5cd9ce"
      },
      "execution_count": 76,
      "outputs": [
        {
          "output_type": "stream",
          "name": "stdout",
          "text": [
            "6\n"
          ]
        },
        {
          "output_type": "execute_result",
          "data": {
            "text/plain": [
              "[<matplotlib.lines.Line2D at 0x7fed78cdadc0>]"
            ]
          },
          "metadata": {},
          "execution_count": 76
        },
        {
          "output_type": "display_data",
          "data": {
            "text/plain": [
              "<Figure size 432x288 with 1 Axes>"
            ],
            "image/png": "[encoded data removed]"
          },
          "metadata": {
            "needs_background": "light"
          }
        }
      ]
    },
    {
      "cell_type": "code",
      "source": [],
      "metadata": {
        "id": "os-tcA561ONk"
      },
      "execution_count": 76,
      "outputs": []
    }
  ]
}