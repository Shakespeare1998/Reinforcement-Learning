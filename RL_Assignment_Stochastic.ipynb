{
  "nbformat": 4,
  "nbformat_minor": 0,
  "metadata": {
    "colab": {
      "provenance": [],
      "authorship_tag": "ABX9TyNHrTLJBIEGKzPwheYv1im2"
    },
    "kernelspec": {
      "name": "python3",
      "display_name": "Python 3"
    },
    "language_info": {
      "name": "python"
    }
  },
  "cells": [
    {
      "cell_type": "markdown",
      "source": [
        "#Assignment 1"
      ],
      "metadata": {
        "id": "UFMv19Sc4tTh"
      }
    },
    {
      "cell_type": "markdown",
      "source": [
        "##Imports"
      ],
      "metadata": {
        "id": "VbooJaJ6wPNj"
      }
    },
    {
      "cell_type": "code",
      "execution_count": 42,
      "metadata": {
        "colab": {
          "base_uri": "https://localhost:8080/"
        },
        "id": "7BNIX23iRc2I",
        "outputId": "2bb8164b-2466-4602-b54b-a99a8a47e570"
      },
      "outputs": [
        {
          "output_type": "stream",
          "name": "stdout",
          "text": [
            "Looking in indexes: https://pypi.org/simple, https://us-python.pkg.dev/colab-wheels/public/simple/\n",
            "Requirement already satisfied: gymnasium in /usr/local/lib/python3.8/dist-packages (0.27.1)\n",
            "Requirement already satisfied: matplotlib in /usr/local/lib/python3.8/dist-packages (3.5.3)\n",
            "Requirement already satisfied: numpy in /usr/local/lib/python3.8/dist-packages (1.22.4)\n",
            "Requirement already satisfied: gymnasium-notices>=0.0.1 in /usr/local/lib/python3.8/dist-packages (from gymnasium) (0.0.1)\n",
            "Requirement already satisfied: typing-extensions>=4.3.0 in /usr/local/lib/python3.8/dist-packages (from gymnasium) (4.5.0)\n",
            "Requirement already satisfied: importlib-metadata>=4.8.0 in /usr/local/lib/python3.8/dist-packages (from gymnasium) (6.0.0)\n",
            "Requirement already satisfied: cloudpickle>=1.2.0 in /usr/local/lib/python3.8/dist-packages (from gymnasium) (2.2.1)\n",
            "Requirement already satisfied: jax-jumpy>=0.2.0 in /usr/local/lib/python3.8/dist-packages (from gymnasium) (0.2.0)\n",
            "Requirement already satisfied: python-dateutil>=2.7 in /usr/local/lib/python3.8/dist-packages (from matplotlib) (2.8.2)\n",
            "Requirement already satisfied: packaging>=20.0 in /usr/local/lib/python3.8/dist-packages (from matplotlib) (23.0)\n",
            "Requirement already satisfied: pyparsing>=2.2.1 in /usr/local/lib/python3.8/dist-packages (from matplotlib) (3.0.9)\n",
            "Requirement already satisfied: pillow>=6.2.0 in /usr/local/lib/python3.8/dist-packages (from matplotlib) (8.4.0)\n",
            "Requirement already satisfied: fonttools>=4.22.0 in /usr/local/lib/python3.8/dist-packages (from matplotlib) (4.38.0)\n",
            "Requirement already satisfied: kiwisolver>=1.0.1 in /usr/local/lib/python3.8/dist-packages (from matplotlib) (1.4.4)\n",
            "Requirement already satisfied: cycler>=0.10 in /usr/local/lib/python3.8/dist-packages (from matplotlib) (0.11.0)\n",
            "Requirement already satisfied: zipp>=0.5 in /usr/local/lib/python3.8/dist-packages (from importlib-metadata>=4.8.0->gymnasium) (3.15.0)\n",
            "Requirement already satisfied: six>=1.5 in /usr/local/lib/python3.8/dist-packages (from python-dateutil>=2.7->matplotlib) (1.15.0)\n"
          ]
        }
      ],
      "source": [
        "!pip install gymnasium matplotlib numpy\n",
        "from google.colab import widgets\n",
        "import gymnasium as gym\n",
        "import numpy as np\n",
        "import matplotlib.pyplot as plt\n",
        "import time\n",
        "import random\n",
        "%matplotlib inline"
      ]
    },
    {
      "cell_type": "markdown",
      "source": [
        "##Stochastic Environment"
      ],
      "metadata": {
        "id": "3g_Qwp7pwTBZ"
      }
    },
    {
      "cell_type": "code",
      "source": [
        "class a1():\n",
        "    def __init__(self):\n",
        "        #IInitializing a 5 cross 5 grid world\n",
        "        self.height = 5\n",
        "        self.width = 5\n",
        "        self.grid = np.zeros(( self.height, self.width)) - 1\n",
        "        \n",
        "        self.current_location = ( 0, 0)\n",
        "        \n",
        "        # Set locations for the pit and the end reward\n",
        "        self.dead = (4,4)\n",
        "        self.richierich = (3,3)\n",
        "        self.reward_location1 = (1,2)\n",
        "        self.reward_location2 = (2,2)\n",
        "        self.terminal_states = [ self.dead, self.richierich]\n",
        "        \n",
        "        # Setting rewards \n",
        "        self.grid[ self.dead[0], self.dead[1]] = -100\n",
        "        self.grid[ self.richierich[0], self.richierich[1]] = 100\n",
        "        self.grid[ self.reward_location1[0], self.reward_location1[1]] = 10\n",
        "        self.grid[ self.reward_location2[0], self.reward_location2[1]] = 10\n",
        "        \n",
        "        # Set available actions\n",
        "        self.act = ['UP', 'DOWN', 'LEFT', 'RIGHT']\n",
        "  \n",
        "    \n",
        "    def show_map(self):\n",
        "        grid = np.zeros(( self.height, self.width))\n",
        "        grid[ self.current_location[0], self.current_location[1]] = 1\n",
        "        return grid\n",
        "    \n",
        "    def get_reward(self, X):\n",
        "        return self.grid[ X[0], X[1]]\n",
        "        \n",
        "    \n",
        "    def step(self, action,stochasticity=0.1):\n",
        "        rando = np.random.uniform(0,1)\n",
        "        if rando<stochasticity:\n",
        "          action = random.choice([\"UP\", \"DOWN\", \"LEFT\", \"RIGHT\"])\n",
        "        last_location = self.current_location\n",
        "        #print(\"Action taken\", action)\n",
        "        # UP\n",
        "        if action == 'UP':\n",
        "            if last_location[0] == 0:\n",
        "                reward = self.get_reward(last_location)\n",
        "            else:\n",
        "                self.grid[self.current_location[0], self.current_location[1]] = 0\n",
        "                self.current_location = ( self.current_location[0] - 1, self.current_location[1])\n",
        "                reward = self.get_reward(self.current_location)\n",
        "        \n",
        "        # DOWN\n",
        "        elif action == 'DOWN':\n",
        "            if last_location[0] == self.height - 1:\n",
        "                reward = self.get_reward(last_location)\n",
        "            else:\n",
        "                self.grid[self.current_location[0], self.current_location[1]] = 0\n",
        "                self.current_location = ( self.current_location[0] + 1, self.current_location[1])\n",
        "                reward = self.get_reward(self.current_location)\n",
        "            \n",
        "        # LEFT\n",
        "        elif action == 'LEFT':\n",
        "            if last_location[1] == 0:\n",
        "                reward = self.get_reward(last_location)\n",
        "            else:\n",
        "                self.grid[self.current_location[0], self.current_location[1]] = 0\n",
        "                self.current_location = ( self.current_location[0], self.current_location[1] - 1)\n",
        "                reward = self.get_reward(self.current_location)\n",
        "\n",
        "        # RIGHT\n",
        "        elif action == 'RIGHT':\n",
        "            if last_location[1] == self.width - 1:\n",
        "                reward = self.get_reward(last_location)\n",
        "            else:\n",
        "                self.grid[self.current_location[0], self.current_location[1]] = 0\n",
        "                self.current_location = ( self.current_location[0], self.current_location[1] + 1)\n",
        "                reward = self.get_reward(self.current_location)\n",
        "        \n",
        "        #print(\"Currrent location\", self.current_location)\n",
        "                \n",
        "        return reward\n",
        "    \n",
        "    def check_state(self):\n",
        "        \"\"\"Check if the agent is in a terminal state (gold or bomb), if so return 'TERMINAL'\"\"\"\n",
        "        if self.current_location in self.terminal_states:\n",
        "            return 'TERMINAL'"
      ],
      "metadata": {
        "id": "fqpjDxWJRhXQ"
      },
      "execution_count": 44,
      "outputs": []
    },
    {
      "cell_type": "code",
      "source": [
        "class RandomAgent():        \n",
        "    # Choose a random action\n",
        "    def choose_action(self, available_actions):\n",
        "        \"\"\"Returns a random choice of the available actions\"\"\"\n",
        "        return np.random.choice(available_actions) "
      ],
      "metadata": {
        "id": "SVJ1N_GWRjGS"
      },
      "execution_count": 45,
      "outputs": []
    },
    {
      "cell_type": "markdown",
      "source": [
        "##Random Agent"
      ],
      "metadata": {
        "id": "3_bpclHtxahZ"
      }
    },
    {
      "cell_type": "code",
      "source": [
        "env = a1()\n",
        "agent = RandomAgent()\n",
        "\n",
        "con = env.check_state()\n",
        "\n",
        "output_grid = widgets.Grid(1, 1)\n",
        "with output_grid.output_to(0, 0):\n",
        "  plt.imshow(env.grid)\n",
        "\n",
        "counter = 0\n",
        "r = 0\n",
        "while con!= \"TERMINAL\" and counter<10:\n",
        "  rand_action = agent.choose_action(env.act)\n",
        "  reward = env.step(rand_action)\n",
        "  print(rand_action)\n",
        "  env.grid[env.current_location[0], env.current_location[1]] = 50\n",
        "  r = r+reward\n",
        "  #print(r)\n",
        "  with output_grid.output_to(0, 0):\n",
        "    output_grid.clear_cell()\n",
        "    plt.imshow(env.grid)\n",
        "  time.sleep(1)\n",
        "  counter += 1\n",
        "\n"
      ],
      "metadata": {
        "colab": {
          "base_uri": "https://localhost:8080/",
          "height": 448
        },
        "id": "Qlt02CZOSqbC",
        "outputId": "0a49ed7c-6b2b-419b-cca8-6806ceb73948"
      },
      "execution_count": 47,
      "outputs": [
        {
          "output_type": "display_data",
          "data": {
            "text/plain": [
              "<IPython.core.display.HTML object>"
            ],
            "text/html": [
              "<style>\n",
              "       table#id4, #id4 > tbody > tr > th, #id4 > tbody > tr > td {\n",
              "         border: 1px solid lightgray;\n",
              "         border-collapse:collapse;\n",
              "         \n",
              "        }</style>"
            ]
          },
          "metadata": {}
        },
        {
          "output_type": "display_data",
          "data": {
            "text/plain": [
              "<IPython.core.display.HTML object>"
            ],
            "text/html": [
              "<table id=id4><tr><td id=id4-0-0></td></tr></table>"
            ]
          },
          "metadata": {}
        },
        {
          "output_type": "display_data",
          "data": {
            "text/plain": [
              "<IPython.core.display.Javascript object>"
            ],
            "application/javascript": [
              "window[\"cf8f2c9c-b95c-11ed-97f1-0242ac1c000c\"] = google.colab.output.getActiveOutputArea();\n",
              "//# sourceURL=js_295aaae8bc"
            ]
          },
          "metadata": {}
        },
        {
          "output_type": "display_data",
          "data": {
            "text/plain": [
              "<IPython.core.display.Javascript object>"
            ],
            "application/javascript": [
              "window[\"cf900d06-b95c-11ed-97f1-0242ac1c000c\"] = document.querySelector(\"#id4-0-0\");\n",
              "//# sourceURL=js_bd97956868"
            ]
          },
          "metadata": {}
        },
        {
          "output_type": "display_data",
          "data": {
            "text/plain": [
              "<IPython.core.display.Javascript object>"
            ],
            "application/javascript": [
              "window[\"cf90bcf6-b95c-11ed-97f1-0242ac1c000c\"] = google.colab.output.setActiveOutputArea(window[\"cf900d06-b95c-11ed-97f1-0242ac1c000c\"]);\n",
              "//# sourceURL=js_c42d72cf6c"
            ]
          },
          "metadata": {}
        },
        {
          "output_type": "display_data",
          "data": {
            "text/plain": [
              "<IPython.core.display.Javascript object>"
            ],
            "application/javascript": [
              "window[\"cfb3511c-b95c-11ed-97f1-0242ac1c000c\"] = google.colab.output.setActiveOutputArea(window[\"cf8f2c9c-b95c-11ed-97f1-0242ac1c000c\"]);\n",
              "//# sourceURL=js_c8b99e5631"
            ]
          },
          "metadata": {}
        },
        {
          "output_type": "stream",
          "name": "stdout",
          "text": [
            "UP\n"
          ]
        },
        {
          "output_type": "display_data",
          "data": {
            "text/plain": [
              "<IPython.core.display.Javascript object>"
            ],
            "application/javascript": [
              "window[\"cfb72116-b95c-11ed-97f1-0242ac1c000c\"] = google.colab.output.getActiveOutputArea();\n",
              "//# sourceURL=js_a40f8f2e11"
            ]
          },
          "metadata": {}
        },
        {
          "output_type": "display_data",
          "data": {
            "text/plain": [
              "<IPython.core.display.Javascript object>"
            ],
            "application/javascript": [
              "window[\"cfb7b284-b95c-11ed-97f1-0242ac1c000c\"] = document.querySelector(\"#id4-0-0\");\n",
              "//# sourceURL=js_5c762639af"
            ]
          },
          "metadata": {}
        },
        {
          "output_type": "display_data",
          "data": {
            "text/plain": [
              "<IPython.core.display.Javascript object>"
            ],
            "application/javascript": [
              "window[\"cfb83c90-b95c-11ed-97f1-0242ac1c000c\"] = google.colab.output.setActiveOutputArea(window[\"cfb7b284-b95c-11ed-97f1-0242ac1c000c\"]);\n",
              "//# sourceURL=js_367b0bac6a"
            ]
          },
          "metadata": {}
        },
        {
          "output_type": "display_data",
          "data": {
            "text/plain": [
              "<IPython.core.display.Javascript object>"
            ],
            "application/javascript": [
              "window[\"cfd96834-b95c-11ed-97f1-0242ac1c000c\"] = google.colab.output.setActiveOutputArea(window[\"cfb72116-b95c-11ed-97f1-0242ac1c000c\"]);\n",
              "//# sourceURL=js_566cb093dd"
            ]
          },
          "metadata": {}
        },
        {
          "output_type": "stream",
          "name": "stdout",
          "text": [
            "DOWN\n"
          ]
        },
        {
          "output_type": "display_data",
          "data": {
            "text/plain": [
              "<IPython.core.display.Javascript object>"
            ],
            "application/javascript": [
              "window[\"d074be38-b95c-11ed-97f1-0242ac1c000c\"] = google.colab.output.getActiveOutputArea();\n",
              "//# sourceURL=js_8de1784aef"
            ]
          },
          "metadata": {}
        },
        {
          "output_type": "display_data",
          "data": {
            "text/plain": [
              "<IPython.core.display.Javascript object>"
            ],
            "application/javascript": [
              "window[\"d0754dc6-b95c-11ed-97f1-0242ac1c000c\"] = document.querySelector(\"#id4-0-0\");\n",
              "//# sourceURL=js_d3b800dd4e"
            ]
          },
          "metadata": {}
        },
        {
          "output_type": "display_data",
          "data": {
            "text/plain": [
              "<IPython.core.display.Javascript object>"
            ],
            "application/javascript": [
              "window[\"d075ee2a-b95c-11ed-97f1-0242ac1c000c\"] = google.colab.output.setActiveOutputArea(window[\"d0754dc6-b95c-11ed-97f1-0242ac1c000c\"]);\n",
              "//# sourceURL=js_7368f27f81"
            ]
          },
          "metadata": {}
        },
        {
          "output_type": "display_data",
          "data": {
            "text/plain": [
              "<IPython.core.display.Javascript object>"
            ],
            "application/javascript": [
              "window[\"d0977f9a-b95c-11ed-97f1-0242ac1c000c\"] = google.colab.output.setActiveOutputArea(window[\"d074be38-b95c-11ed-97f1-0242ac1c000c\"]);\n",
              "//# sourceURL=js_c820db3c7b"
            ]
          },
          "metadata": {}
        },
        {
          "output_type": "stream",
          "name": "stdout",
          "text": [
            "DOWN\n"
          ]
        },
        {
          "output_type": "display_data",
          "data": {
            "text/plain": [
              "<IPython.core.display.Javascript object>"
            ],
            "application/javascript": [
              "window[\"d133ac12-b95c-11ed-97f1-0242ac1c000c\"] = google.colab.output.getActiveOutputArea();\n",
              "//# sourceURL=js_9c77074cbf"
            ]
          },
          "metadata": {}
        },
        {
          "output_type": "display_data",
          "data": {
            "text/plain": [
              "<IPython.core.display.Javascript object>"
            ],
            "application/javascript": [
              "window[\"d13425e8-b95c-11ed-97f1-0242ac1c000c\"] = document.querySelector(\"#id4-0-0\");\n",
              "//# sourceURL=js_38171d4ece"
            ]
          },
          "metadata": {}
        },
        {
          "output_type": "display_data",
          "data": {
            "text/plain": [
              "<IPython.core.display.Javascript object>"
            ],
            "application/javascript": [
              "window[\"d134fe50-b95c-11ed-97f1-0242ac1c000c\"] = google.colab.output.setActiveOutputArea(window[\"d13425e8-b95c-11ed-97f1-0242ac1c000c\"]);\n",
              "//# sourceURL=js_009c6e66d3"
            ]
          },
          "metadata": {}
        },
        {
          "output_type": "display_data",
          "data": {
            "text/plain": [
              "<IPython.core.display.Javascript object>"
            ],
            "application/javascript": [
              "window[\"d15eef3a-b95c-11ed-97f1-0242ac1c000c\"] = google.colab.output.setActiveOutputArea(window[\"d133ac12-b95c-11ed-97f1-0242ac1c000c\"]);\n",
              "//# sourceURL=js_e8f3eb946f"
            ]
          },
          "metadata": {}
        },
        {
          "output_type": "stream",
          "name": "stdout",
          "text": [
            "UP\n"
          ]
        },
        {
          "output_type": "display_data",
          "data": {
            "text/plain": [
              "<IPython.core.display.Javascript object>"
            ],
            "application/javascript": [
              "window[\"d1fb1658-b95c-11ed-97f1-0242ac1c000c\"] = google.colab.output.getActiveOutputArea();\n",
              "//# sourceURL=js_ebbc512903"
            ]
          },
          "metadata": {}
        },
        {
          "output_type": "display_data",
          "data": {
            "text/plain": [
              "<IPython.core.display.Javascript object>"
            ],
            "application/javascript": [
              "window[\"d1fc3be6-b95c-11ed-97f1-0242ac1c000c\"] = document.querySelector(\"#id4-0-0\");\n",
              "//# sourceURL=js_fbf7efb77b"
            ]
          },
          "metadata": {}
        },
        {
          "output_type": "display_data",
          "data": {
            "text/plain": [
              "<IPython.core.display.Javascript object>"
            ],
            "application/javascript": [
              "window[\"d1fcb2f6-b95c-11ed-97f1-0242ac1c000c\"] = google.colab.output.setActiveOutputArea(window[\"d1fc3be6-b95c-11ed-97f1-0242ac1c000c\"]);\n",
              "//# sourceURL=js_c6164a8215"
            ]
          },
          "metadata": {}
        },
        {
          "output_type": "display_data",
          "data": {
            "text/plain": [
              "<IPython.core.display.Javascript object>"
            ],
            "application/javascript": [
              "window[\"d223cae4-b95c-11ed-97f1-0242ac1c000c\"] = google.colab.output.setActiveOutputArea(window[\"d1fb1658-b95c-11ed-97f1-0242ac1c000c\"]);\n",
              "//# sourceURL=js_14611981d2"
            ]
          },
          "metadata": {}
        },
        {
          "output_type": "stream",
          "name": "stdout",
          "text": [
            "UP\n"
          ]
        },
        {
          "output_type": "display_data",
          "data": {
            "text/plain": [
              "<IPython.core.display.Javascript object>"
            ],
            "application/javascript": [
              "window[\"d2bfacde-b95c-11ed-97f1-0242ac1c000c\"] = google.colab.output.getActiveOutputArea();\n",
              "//# sourceURL=js_79674617c3"
            ]
          },
          "metadata": {}
        },
        {
          "output_type": "display_data",
          "data": {
            "text/plain": [
              "<IPython.core.display.Javascript object>"
            ],
            "application/javascript": [
              "window[\"d2c098b0-b95c-11ed-97f1-0242ac1c000c\"] = document.querySelector(\"#id4-0-0\");\n",
              "//# sourceURL=js_b8bc083756"
            ]
          },
          "metadata": {}
        },
        {
          "output_type": "display_data",
          "data": {
            "text/plain": [
              "<IPython.core.display.Javascript object>"
            ],
            "application/javascript": [
              "window[\"d2c12078-b95c-11ed-97f1-0242ac1c000c\"] = google.colab.output.setActiveOutputArea(window[\"d2c098b0-b95c-11ed-97f1-0242ac1c000c\"]);\n",
              "//# sourceURL=js_26d19a37b1"
            ]
          },
          "metadata": {}
        },
        {
          "output_type": "display_data",
          "data": {
            "text/plain": [
              "<IPython.core.display.Javascript object>"
            ],
            "application/javascript": [
              "window[\"d2e214c2-b95c-11ed-97f1-0242ac1c000c\"] = google.colab.output.setActiveOutputArea(window[\"d2bfacde-b95c-11ed-97f1-0242ac1c000c\"]);\n",
              "//# sourceURL=js_8677c4193b"
            ]
          },
          "metadata": {}
        },
        {
          "output_type": "stream",
          "name": "stdout",
          "text": [
            "LEFT\n"
          ]
        },
        {
          "output_type": "display_data",
          "data": {
            "text/plain": [
              "<IPython.core.display.Javascript object>"
            ],
            "application/javascript": [
              "window[\"d37daa40-b95c-11ed-97f1-0242ac1c000c\"] = google.colab.output.getActiveOutputArea();\n",
              "//# sourceURL=js_e6b018ac7a"
            ]
          },
          "metadata": {}
        },
        {
          "output_type": "display_data",
          "data": {
            "text/plain": [
              "<IPython.core.display.Javascript object>"
            ],
            "application/javascript": [
              "window[\"d37e768c-b95c-11ed-97f1-0242ac1c000c\"] = document.querySelector(\"#id4-0-0\");\n",
              "//# sourceURL=js_04c9897e82"
            ]
          },
          "metadata": {}
        },
        {
          "output_type": "display_data",
          "data": {
            "text/plain": [
              "<IPython.core.display.Javascript object>"
            ],
            "application/javascript": [
              "window[\"d37f2b54-b95c-11ed-97f1-0242ac1c000c\"] = google.colab.output.setActiveOutputArea(window[\"d37e768c-b95c-11ed-97f1-0242ac1c000c\"]);\n",
              "//# sourceURL=js_e149359cf8"
            ]
          },
          "metadata": {}
        },
        {
          "output_type": "display_data",
          "data": {
            "text/plain": [
              "<IPython.core.display.Javascript object>"
            ],
            "application/javascript": [
              "window[\"d3a04f3c-b95c-11ed-97f1-0242ac1c000c\"] = google.colab.output.setActiveOutputArea(window[\"d37daa40-b95c-11ed-97f1-0242ac1c000c\"]);\n",
              "//# sourceURL=js_9a4fb6f9aa"
            ]
          },
          "metadata": {}
        },
        {
          "output_type": "stream",
          "name": "stdout",
          "text": [
            "UP\n"
          ]
        },
        {
          "output_type": "display_data",
          "data": {
            "text/plain": [
              "<IPython.core.display.Javascript object>"
            ],
            "application/javascript": [
              "window[\"d43bfe0a-b95c-11ed-97f1-0242ac1c000c\"] = google.colab.output.getActiveOutputArea();\n",
              "//# sourceURL=js_751b71d96f"
            ]
          },
          "metadata": {}
        },
        {
          "output_type": "display_data",
          "data": {
            "text/plain": [
              "<IPython.core.display.Javascript object>"
            ],
            "application/javascript": [
              "window[\"d43c795c-b95c-11ed-97f1-0242ac1c000c\"] = document.querySelector(\"#id4-0-0\");\n",
              "//# sourceURL=js_9b17211013"
            ]
          },
          "metadata": {}
        },
        {
          "output_type": "display_data",
          "data": {
            "text/plain": [
              "<IPython.core.display.Javascript object>"
            ],
            "application/javascript": [
              "window[\"d43cecac-b95c-11ed-97f1-0242ac1c000c\"] = google.colab.output.setActiveOutputArea(window[\"d43c795c-b95c-11ed-97f1-0242ac1c000c\"]);\n",
              "//# sourceURL=js_f06458fd52"
            ]
          },
          "metadata": {}
        },
        {
          "output_type": "display_data",
          "data": {
            "text/plain": [
              "<IPython.core.display.Javascript object>"
            ],
            "application/javascript": [
              "window[\"d45d4bb4-b95c-11ed-97f1-0242ac1c000c\"] = google.colab.output.setActiveOutputArea(window[\"d43bfe0a-b95c-11ed-97f1-0242ac1c000c\"]);\n",
              "//# sourceURL=js_38355d0dc1"
            ]
          },
          "metadata": {}
        },
        {
          "output_type": "stream",
          "name": "stdout",
          "text": [
            "RIGHT\n"
          ]
        },
        {
          "output_type": "display_data",
          "data": {
            "text/plain": [
              "<IPython.core.display.Javascript object>"
            ],
            "application/javascript": [
              "window[\"d4f8dc50-b95c-11ed-97f1-0242ac1c000c\"] = google.colab.output.getActiveOutputArea();\n",
              "//# sourceURL=js_76a69d9a43"
            ]
          },
          "metadata": {}
        },
        {
          "output_type": "display_data",
          "data": {
            "text/plain": [
              "<IPython.core.display.Javascript object>"
            ],
            "application/javascript": [
              "window[\"d4f96792-b95c-11ed-97f1-0242ac1c000c\"] = document.querySelector(\"#id4-0-0\");\n",
              "//# sourceURL=js_522362ad16"
            ]
          },
          "metadata": {}
        },
        {
          "output_type": "display_data",
          "data": {
            "text/plain": [
              "<IPython.core.display.Javascript object>"
            ],
            "application/javascript": [
              "window[\"d4f9ece4-b95c-11ed-97f1-0242ac1c000c\"] = google.colab.output.setActiveOutputArea(window[\"d4f96792-b95c-11ed-97f1-0242ac1c000c\"]);\n",
              "//# sourceURL=js_464e3bd2cd"
            ]
          },
          "metadata": {}
        },
        {
          "output_type": "display_data",
          "data": {
            "text/plain": [
              "<IPython.core.display.Javascript object>"
            ],
            "application/javascript": [
              "window[\"d51d0102-b95c-11ed-97f1-0242ac1c000c\"] = google.colab.output.setActiveOutputArea(window[\"d4f8dc50-b95c-11ed-97f1-0242ac1c000c\"]);\n",
              "//# sourceURL=js_9f3116923d"
            ]
          },
          "metadata": {}
        },
        {
          "output_type": "stream",
          "name": "stdout",
          "text": [
            "RIGHT\n"
          ]
        },
        {
          "output_type": "display_data",
          "data": {
            "text/plain": [
              "<IPython.core.display.Javascript object>"
            ],
            "application/javascript": [
              "window[\"d5b8a5c6-b95c-11ed-97f1-0242ac1c000c\"] = google.colab.output.getActiveOutputArea();\n",
              "//# sourceURL=js_eb7d25da49"
            ]
          },
          "metadata": {}
        },
        {
          "output_type": "display_data",
          "data": {
            "text/plain": [
              "<IPython.core.display.Javascript object>"
            ],
            "application/javascript": [
              "window[\"d5b95e12-b95c-11ed-97f1-0242ac1c000c\"] = document.querySelector(\"#id4-0-0\");\n",
              "//# sourceURL=js_e6a9f6e7f3"
            ]
          },
          "metadata": {}
        },
        {
          "output_type": "display_data",
          "data": {
            "text/plain": [
              "<IPython.core.display.Javascript object>"
            ],
            "application/javascript": [
              "window[\"d5b9d61c-b95c-11ed-97f1-0242ac1c000c\"] = google.colab.output.setActiveOutputArea(window[\"d5b95e12-b95c-11ed-97f1-0242ac1c000c\"]);\n",
              "//# sourceURL=js_9d0ea59ad3"
            ]
          },
          "metadata": {}
        },
        {
          "output_type": "display_data",
          "data": {
            "text/plain": [
              "<IPython.core.display.Javascript object>"
            ],
            "application/javascript": [
              "window[\"d5db9a36-b95c-11ed-97f1-0242ac1c000c\"] = google.colab.output.setActiveOutputArea(window[\"d5b8a5c6-b95c-11ed-97f1-0242ac1c000c\"]);\n",
              "//# sourceURL=js_0a02962dbb"
            ]
          },
          "metadata": {}
        },
        {
          "output_type": "stream",
          "name": "stdout",
          "text": [
            "LEFT\n"
          ]
        },
        {
          "output_type": "display_data",
          "data": {
            "text/plain": [
              "<IPython.core.display.Javascript object>"
            ],
            "application/javascript": [
              "window[\"d6778fae-b95c-11ed-97f1-0242ac1c000c\"] = google.colab.output.getActiveOutputArea();\n",
              "//# sourceURL=js_778c028c05"
            ]
          },
          "metadata": {}
        },
        {
          "output_type": "display_data",
          "data": {
            "text/plain": [
              "<IPython.core.display.Javascript object>"
            ],
            "application/javascript": [
              "window[\"d6781e38-b95c-11ed-97f1-0242ac1c000c\"] = document.querySelector(\"#id4-0-0\");\n",
              "//# sourceURL=js_b01e895209"
            ]
          },
          "metadata": {}
        },
        {
          "output_type": "display_data",
          "data": {
            "text/plain": [
              "<IPython.core.display.Javascript object>"
            ],
            "application/javascript": [
              "window[\"d678aa1a-b95c-11ed-97f1-0242ac1c000c\"] = google.colab.output.setActiveOutputArea(window[\"d6781e38-b95c-11ed-97f1-0242ac1c000c\"]);\n",
              "//# sourceURL=js_a4d60e7f65"
            ]
          },
          "metadata": {}
        },
        {
          "output_type": "display_data",
          "data": {
            "text/plain": [
              "<Figure size 432x288 with 1 Axes>"
            ],
            "image/png": "[encoded data removed]"
          },
          "metadata": {
            "needs_background": "light"
          }
        },
        {
          "output_type": "display_data",
          "data": {
            "text/plain": [
              "<IPython.core.display.Javascript object>"
            ],
            "application/javascript": [
              "window[\"d6985ed2-b95c-11ed-97f1-0242ac1c000c\"] = google.colab.output.setActiveOutputArea(window[\"d6778fae-b95c-11ed-97f1-0242ac1c000c\"]);\n",
              "//# sourceURL=js_91d0eaefb8"
            ]
          },
          "metadata": {}
        }
      ]
    },
    {
      "cell_type": "markdown",
      "source": [
        "##Q-Learning Agent"
      ],
      "metadata": {
        "id": "0zVEQUT5yEGT"
      }
    },
    {
      "cell_type": "code",
      "source": [
        "class qlearning():\n",
        "    def __init__(self, environment, alpha=0.2, gamma=0.98):\n",
        "        self.environment = environment\n",
        "        self.q_table = dict()\n",
        "        for x in range(environment.height):\n",
        "            for y in range(environment.width):\n",
        "                self.q_table[(x,y)] = {'UP':0, 'DOWN':0, 'LEFT':0, 'RIGHT':0} \n",
        "\n",
        "        self.alpha = alpha\n",
        "        self.gamma = gamma\n",
        "        \n",
        "    def choose_action(self, available_actions, epsilon):\n",
        "        if np.random.uniform(0,1) < epsilon:\n",
        "            action = available_actions[np.random.randint(0, len(available_actions))]\n",
        "        else:\n",
        "            q_values_of_state = self.q_table[self.environment.current_location]\n",
        "            maxValue = max(q_values_of_state.values())\n",
        "            action = np.random.choice([k for k, v in q_values_of_state.items() if v == maxValue])\n",
        "        \n",
        "        return action\n",
        "    \n",
        "    def learn(self, old_state, reward, new_state, action):\n",
        "        q_values_of_state = self.q_table[new_state]\n",
        "        max_q_value_in_new_state = max(q_values_of_state.values())\n",
        "        current_q_value = self.q_table[old_state][action]\n",
        "        \n",
        "        self.q_table[old_state][action] = (1 - self.alpha) * current_q_value + self.alpha * (reward + self.gamma * max_q_value_in_new_state)\n"
      ],
      "metadata": {
        "id": "LBIQTqOQyGjg"
      },
      "execution_count": 48,
      "outputs": []
    },
    {
      "cell_type": "code",
      "source": [
        "def play(environment, agent, trials=500, max_steps_per_episode=1000, epsilon = 0.95, decay = 0.995):\n",
        "    reward_per_episode = [] \n",
        "    eps_list = []\n",
        "    eps = epsilon\n",
        "    for trial in range(trials): \n",
        "        cumulative_reward = 0 \n",
        "        step = 0\n",
        "        game_over = False\n",
        "        while step < max_steps_per_episode and game_over != True: \n",
        "            old_state = environment.current_location\n",
        "            action = agent.choose_action(['UP', 'DOWN', 'LEFT', 'RIGHT'], eps) \n",
        "            reward = environment.step(action)\n",
        "            new_state = environment.current_location\n",
        "            \n",
        "            agent.learn(old_state, reward, new_state, action)\n",
        "                \n",
        "            cumulative_reward += reward\n",
        "            step += 1\n",
        "            \n",
        "            if environment.check_state() == 'TERMINAL':\n",
        "                environment.__init__()\n",
        "                game_over = True     \n",
        "                \n",
        "        reward_per_episode.append(cumulative_reward) \n",
        "        eps_list.append(eps)\n",
        "        eps = eps * decay\n",
        "\n",
        "        \n",
        "    return reward_per_episode, eps_list"
      ],
      "metadata": {
        "id": "DFjzuMrSyLbk"
      },
      "execution_count": 50,
      "outputs": []
    },
    {
      "cell_type": "code",
      "source": [
        "environment = a1()\n",
        "agentQ = qlearning(environment)\n",
        "\n",
        "reward_per_episode, epsilon_decay = play(environment, agentQ, trials=1500)\n",
        "\n",
        "plt.plot(reward_per_episode)"
      ],
      "metadata": {
        "colab": {
          "base_uri": "https://localhost:8080/",
          "height": 283
        },
        "id": "UKGIs-I3yPfG",
        "outputId": "0a295de9-d7a6-4656-8768-0112c3060c63"
      },
      "execution_count": 51,
      "outputs": [
        {
          "output_type": "execute_result",
          "data": {
            "text/plain": [
              "[<matplotlib.lines.Line2D at 0x7fed78f4d940>]"
            ]
          },
          "metadata": {},
          "execution_count": 51
        },
        {
          "output_type": "display_data",
          "data": {
            "text/plain": [
              "<Figure size 432x288 with 1 Axes>"
            ],
            "image/png": "[encoded data removed]"
          },
          "metadata": {
            "needs_background": "light"
          }
        }
      ]
    },
    {
      "cell_type": "code",
      "source": [
        "plt.plot(epsilon_decay)\n",
        "plt.title(\"Epsilon Decay\")\n",
        "plt.ylabel(\"Epsilon\")\n",
        "plt.xlabel(\"Number of episodes\")"
      ],
      "metadata": {
        "colab": {
          "base_uri": "https://localhost:8080/",
          "height": 313
        },
        "id": "MSLhrALcybrl",
        "outputId": "c17d9fbf-ca81-4e21-ec7b-4d4727a9014b"
      },
      "execution_count": 24,
      "outputs": [
        {
          "output_type": "execute_result",
          "data": {
            "text/plain": [
              "Text(0.5, 0, 'Number of episodes')"
            ]
          },
          "metadata": {},
          "execution_count": 24
        },
        {
          "output_type": "display_data",
          "data": {
            "text/plain": [
              "<Figure size 432x288 with 1 Axes>"
            ],
            "image/png": "[encoded data removed]"
          },
          "metadata": {
            "needs_background": "light"
          }
        }
      ]
    },
    {
      "cell_type": "code",
      "source": [
        "import pickle\n",
        "with open('q_values(QLearning).pickle', 'wb') as export:\n",
        "  pickle.dump(agentQ.q_table, export)"
      ],
      "metadata": {
        "id": "5m2adD2syR4j"
      },
      "execution_count": 22,
      "outputs": []
    },
    {
      "cell_type": "code",
      "source": [
        "with open('q_values(QLearning).pickle', 'rb') as impor:\n",
        "  q_values_imported = pickle.load(impor)\n",
        "\n",
        "#q_values_imported"
      ],
      "metadata": {
        "id": "_015nPqUyXmX"
      },
      "execution_count": 23,
      "outputs": []
    },
    {
      "cell_type": "markdown",
      "source": [
        "###Q-Learning Agent Testing"
      ],
      "metadata": {
        "id": "4yIL_PLnyh8L"
      }
    },
    {
      "cell_type": "code",
      "source": [
        "environment_testing = a1()\n",
        "qagent_testing = qlearning(environment_testing)\n",
        "rrr = 0\n",
        "x=0\n",
        "plo = []\n",
        "while environment_testing.check_state() != \"TERMINAL\":\n",
        "  new_state = environment_testing.current_location\n",
        "  q_values_of_state = q_values_imported[new_state]\n",
        "  maxValue = max(q_values_of_state.values())\n",
        "  action = np.random.choice([k for k, v in q_values_of_state.items() if v == maxValue])\n",
        "  #print(new_state)\n",
        "  #print(action)\n",
        "  reward = environment_testing.step(action)\n",
        "  new_state = environment_testing.current_location\n",
        "  rrr += reward\n",
        "  plo.append(rrr)\n",
        "  x+=1\n",
        "print(x)\n",
        "\n",
        "\n",
        "# Simple learning curve\n",
        "plt.plot(plo)"
      ],
      "metadata": {
        "colab": {
          "base_uri": "https://localhost:8080/",
          "height": 301
        },
        "id": "jYa5zDuTyguO",
        "outputId": "0fbeb351-1a67-4e62-d768-48ab85e3e3a9"
      },
      "execution_count": 33,
      "outputs": [
        {
          "output_type": "stream",
          "name": "stdout",
          "text": [
            "6\n"
          ]
        },
        {
          "output_type": "execute_result",
          "data": {
            "text/plain": [
              "[<matplotlib.lines.Line2D at 0x7fed797d2670>]"
            ]
          },
          "metadata": {},
          "execution_count": 33
        },
        {
          "output_type": "display_data",
          "data": {
            "text/plain": [
              "<Figure size 432x288 with 1 Axes>"
            ],
            "image/png": "[encoded data removed]"
          },
          "metadata": {
            "needs_background": "light"
          }
        }
      ]
    },
    {
      "cell_type": "markdown",
      "source": [
        "##SARSA"
      ],
      "metadata": {
        "id": "8Z1m_4xt0UX2"
      }
    },
    {
      "cell_type": "code",
      "source": [
        "class sarsa():\n",
        "    def __init__(self, environment, alpha=0.2, gamma=0.95):\n",
        "        self.environment = environment\n",
        "        self.q_table = dict()\n",
        "        for x in range(environment.height): \n",
        "            for y in range(environment.width):\n",
        "                self.q_table[(x,y)] = {'UP':0, 'DOWN':0, 'LEFT':0, 'RIGHT':0}\n",
        "\n",
        "        self.alpha = alpha\n",
        "        self.gamma = gamma\n",
        "        \n",
        "    def choose_action(self, available_actions, epsilon):\n",
        "        if np.random.uniform(0,1) < epsilon:\n",
        "            action = available_actions[np.random.randint(0, len(available_actions))]\n",
        "        else:\n",
        "            q_values_of_state = self.q_table[self.environment.current_location]\n",
        "            maxValue = max(q_values_of_state.values())\n",
        "            action = np.random.choice([k for k, v in q_values_of_state.items() if v == maxValue])\n",
        "        \n",
        "        return action\n",
        "    \n",
        "    def learn(self, old_state, reward, new_state, action, next_action):\n",
        "        current_q_value = self.q_table[old_state][action]\n",
        "        \n",
        "        \n",
        "        self.q_table[old_state][action] = (1 - self.alpha) * current_q_value + self.alpha * (reward + self.gamma * self.q_table[new_state][next_action])\n"
      ],
      "metadata": {
        "id": "pgRjsxpEyZS8"
      },
      "execution_count": 52,
      "outputs": []
    },
    {
      "cell_type": "code",
      "source": [
        "def sar_play(environment, agent, trials=500, max_steps_per_episode=20, epsilon = 0.99, decay = 0.995):\n",
        "    reward_per_episode = [] \n",
        "    eps_list = []\n",
        "    eps = epsilon\n",
        "    for trial in range(trials): \n",
        "        cumulative_reward = 0 \n",
        "        step = 0\n",
        "        game_over = False\n",
        "        while step < max_steps_per_episode and game_over != True:\n",
        "            old_state = environment.current_location\n",
        "            action = agent.choose_action(['UP', 'DOWN', 'LEFT', 'RIGHT'], eps) \n",
        "            reward = environment.step(action)\n",
        "            new_state = environment.current_location\n",
        "            next_action = agent.choose_action(['UP', 'DOWN', 'LEFT', 'RIGHT'], eps)\n",
        "            \n",
        "            agent.learn(old_state, reward, new_state, action, next_action)\n",
        "                \n",
        "            cumulative_reward += reward\n",
        "            step += 1\n",
        "            \n",
        "            if environment.check_state() == 'TERMINAL':\n",
        "                environment.__init__()\n",
        "                game_over = True     \n",
        "                \n",
        "        reward_per_episode.append(cumulative_reward)\n",
        "        #print(\"Cumulative reward\", cumulative_reward)\n",
        "        eps_list.append(eps)\n",
        "        eps = eps * decay\n",
        "\n",
        "        \n",
        "    return reward_per_episode, eps_list"
      ],
      "metadata": {
        "id": "dWIUc1_10WCB"
      },
      "execution_count": 53,
      "outputs": []
    },
    {
      "cell_type": "code",
      "source": [
        "environment_sarsa = a1()\n",
        "agent_sarsa = sarsa(environment_sarsa)\n",
        "\n",
        "reward_per_episode, epsilon_decay = sar_play(environment_sarsa, agent_sarsa, trials=1000)\n",
        "\n",
        "plt.plot(reward_per_episode)"
      ],
      "metadata": {
        "colab": {
          "base_uri": "https://localhost:8080/",
          "height": 283
        },
        "id": "qH1T2nQZ0YFT",
        "outputId": "39930bc0-e987-4016-93cf-ab7b06b0692b"
      },
      "execution_count": 55,
      "outputs": [
        {
          "output_type": "execute_result",
          "data": {
            "text/plain": [
              "[<matplotlib.lines.Line2D at 0x7fed78ec8400>]"
            ]
          },
          "metadata": {},
          "execution_count": 55
        },
        {
          "output_type": "display_data",
          "data": {
            "text/plain": [
              "<Figure size 432x288 with 1 Axes>"
            ],
            "image/png": "[encoded data removed]"
          },
          "metadata": {
            "needs_background": "light"
          }
        }
      ]
    },
    {
      "cell_type": "code",
      "source": [
        "plt.plot(epsilon_decay)\n",
        "plt.title(\"Epsilon Decay\")\n",
        "plt.ylabel(\"Epsilon\")\n",
        "plt.xlabel(\"Number of episodes\")"
      ],
      "metadata": {
        "colab": {
          "base_uri": "https://localhost:8080/",
          "height": 313
        },
        "id": "zjrzyRX90aNn",
        "outputId": "c6751bea-d89d-440a-f034-579e471974e7"
      },
      "execution_count": 56,
      "outputs": [
        {
          "output_type": "execute_result",
          "data": {
            "text/plain": [
              "Text(0.5, 0, 'Number of episodes')"
            ]
          },
          "metadata": {},
          "execution_count": 56
        },
        {
          "output_type": "display_data",
          "data": {
            "text/plain": [
              "<Figure size 432x288 with 1 Axes>"
            ],
            "image/png": "[encoded data removed]"
          },
          "metadata": {
            "needs_background": "light"
          }
        }
      ]
    },
    {
      "cell_type": "code",
      "source": [
        "import pickle\n",
        "with open('q_values(SARSA).pickle', 'wb') as export:\n",
        "  pickle.dump(agentQ.q_table, export)"
      ],
      "metadata": {
        "id": "MfzQpXjG0gS4"
      },
      "execution_count": 57,
      "outputs": []
    },
    {
      "cell_type": "code",
      "source": [
        "with open('q_values(QLearning).pickle', 'rb') as impor:\n",
        "  q_values_imported_sarsa = pickle.load(impor)\n",
        "\n",
        "#q_values_imported"
      ],
      "metadata": {
        "id": "n2kSGs0c0i48"
      },
      "execution_count": 58,
      "outputs": []
    },
    {
      "cell_type": "markdown",
      "source": [],
      "metadata": {
        "id": "JzSkPYK94fUo"
      }
    },
    {
      "cell_type": "markdown",
      "source": [
        "###SARSA Testing"
      ],
      "metadata": {
        "id": "OBgCnNki1L7S"
      }
    },
    {
      "cell_type": "code",
      "source": [
        "environment_testing = a1()\n",
        "sagent_testing = sarsa(environment_testing)\n",
        "rrr = 0\n",
        "x=0\n",
        "plo = []\n",
        "while environment_testing.check_state() != \"TERMINAL\":\n",
        "  q_values_of_state = q_values_imported_sarsa[new_state]\n",
        "  maxValue = max(q_values_of_state.values())\n",
        "  action = np.random.choice([k for k, v in q_values_of_state.items() if v == maxValue])\n",
        "  #print(action)\n",
        "  reward = environment_testing.step(action)\n",
        "  new_state = environment_testing.current_location\n",
        "  rrr += reward\n",
        "  plo.append(rrr)\n",
        "  x+=1\n",
        "print(x)\n",
        "\n",
        "\n",
        "# Simple learning curve\n",
        "plt.plot(plo)"
      ],
      "metadata": {
        "colab": {
          "base_uri": "https://localhost:8080/",
          "height": 301
        },
        "id": "s35tLO8x0lHI",
        "outputId": "6feace34-89dd-41c3-da20-69ae9ef55b2e"
      },
      "execution_count": 40,
      "outputs": [
        {
          "output_type": "stream",
          "name": "stdout",
          "text": [
            "6\n"
          ]
        },
        {
          "output_type": "execute_result",
          "data": {
            "text/plain": [
              "[<matplotlib.lines.Line2D at 0x7fed79920c70>]"
            ]
          },
          "metadata": {},
          "execution_count": 40
        },
        {
          "output_type": "display_data",
          "data": {
            "text/plain": [
              "<Figure size 432x288 with 1 Axes>"
            ],
            "image/png": "[encoded data removed]"
          },
          "metadata": {
            "needs_background": "light"
          }
        }
      ]
    },
    {
      "cell_type": "code",
      "source": [],
      "metadata": {
        "id": "os-tcA561ONk"
      },
      "execution_count": null,
      "outputs": []
    }
  ]
}